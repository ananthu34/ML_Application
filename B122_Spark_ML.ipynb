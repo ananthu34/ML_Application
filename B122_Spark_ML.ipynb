{
  "nbformat": 4,
  "nbformat_minor": 0,
  "metadata": {
    "colab": {
      "provenance": [],
      "collapsed_sections": [
        "4LZ6Q0_Pa9iY"
      ],
      "include_colab_link": true
    },
    "kernelspec": {
      "name": "python3",
      "display_name": "Python 3"
    },
    "language_info": {
      "name": "python"
    }
  },
  "cells": [
    {
      "cell_type": "markdown",
      "metadata": {
        "id": "view-in-github",
        "colab_type": "text"
      },
      "source": [
        "<a href=\"https://colab.research.google.com/github/ananthu34/ML_Application/blob/main/B122_Spark_ML.ipynb\" target=\"_parent\"><img src=\"https://colab.research.google.com/assets/colab-badge.svg\" alt=\"Open In Colab\"/></a>"
      ]
    },
    {
      "cell_type": "code",
      "metadata": {
        "id": "AX3imD6cWzg1"
      },
      "source": [
        "!apt-get install openjdk-8-jdk-headless -qq > /dev/null\n",
        "!wget -q https://archive.apache.org/dist/spark/spark-3.0.1/spark-3.0.1-bin-hadoop2.7.tgz"
      ],
      "execution_count": 1,
      "outputs": []
    },
    {
      "cell_type": "code",
      "metadata": {
        "id": "2RYCdRaUW-oW"
      },
      "source": [
        "!tar xf spark-3.0.1-bin-hadoop2.7.tgz\n",
        "!pip install -q findspark"
      ],
      "execution_count": 2,
      "outputs": []
    },
    {
      "cell_type": "code",
      "metadata": {
        "id": "X3_mzSlsXBhi"
      },
      "source": [
        "import os \n",
        "os.environ[\"JAVA_HOME\"] = \"/usr/lib/jvm/java-8-openjdk-amd64\"\n",
        "os.environ[\"SPARK_HOME\"] = \"/content//spark-3.0.1-bin-hadoop2.7\""
      ],
      "execution_count": 3,
      "outputs": []
    },
    {
      "cell_type": "code",
      "metadata": {
        "id": "VSZkoJnuXDct"
      },
      "source": [
        "import findspark\n",
        "findspark.init()"
      ],
      "execution_count": 4,
      "outputs": []
    },
    {
      "cell_type": "code",
      "metadata": {
        "colab": {
          "base_uri": "https://localhost:8080/"
        },
        "id": "-MOQUBTzXFGQ",
        "outputId": "3eda06fe-a9dd-4b46-9f51-3d51baffa318"
      },
      "source": [
        "! pip install chart_studio"
      ],
      "execution_count": 5,
      "outputs": [
        {
          "output_type": "stream",
          "name": "stdout",
          "text": [
            "Looking in indexes: https://pypi.org/simple, https://us-python.pkg.dev/colab-wheels/public/simple/\n",
            "Requirement already satisfied: chart_studio in /usr/local/lib/python3.8/dist-packages (1.1.0)\n",
            "Requirement already satisfied: retrying>=1.3.3 in /usr/local/lib/python3.8/dist-packages (from chart_studio) (1.3.4)\n",
            "Requirement already satisfied: requests in /usr/local/lib/python3.8/dist-packages (from chart_studio) (2.23.0)\n",
            "Requirement already satisfied: plotly in /usr/local/lib/python3.8/dist-packages (from chart_studio) (5.5.0)\n",
            "Requirement already satisfied: six in /usr/local/lib/python3.8/dist-packages (from chart_studio) (1.15.0)\n",
            "Requirement already satisfied: tenacity>=6.2.0 in /usr/local/lib/python3.8/dist-packages (from plotly->chart_studio) (8.1.0)\n",
            "Requirement already satisfied: certifi>=2017.4.17 in /usr/local/lib/python3.8/dist-packages (from requests->chart_studio) (2022.12.7)\n",
            "Requirement already satisfied: idna<3,>=2.5 in /usr/local/lib/python3.8/dist-packages (from requests->chart_studio) (2.10)\n",
            "Requirement already satisfied: urllib3!=1.25.0,!=1.25.1,<1.26,>=1.21.1 in /usr/local/lib/python3.8/dist-packages (from requests->chart_studio) (1.24.3)\n",
            "Requirement already satisfied: chardet<4,>=3.0.2 in /usr/local/lib/python3.8/dist-packages (from requests->chart_studio) (3.0.4)\n"
          ]
        }
      ]
    },
    {
      "cell_type": "code",
      "metadata": {
        "id": "7V9NdzIyZYsG"
      },
      "source": [
        "from pyspark.sql.types import *\n",
        "from pyspark.sql.functions import * "
      ],
      "execution_count": 6,
      "outputs": []
    },
    {
      "cell_type": "code",
      "metadata": {
        "id": "ZuHyYdFVZcoe"
      },
      "source": [
        "import numpy as np\n",
        "import pandas as pd\n",
        "from io import StringIO"
      ],
      "execution_count": 7,
      "outputs": []
    },
    {
      "cell_type": "code",
      "metadata": {
        "colab": {
          "base_uri": "https://localhost:8080/"
        },
        "id": "lNWjr-oHZfLL",
        "outputId": "3b0eff94-b061-440c-bf1b-eee31b8889f9"
      },
      "source": [
        "from google.colab import drive\n",
        "drive.mount('/content/drive')"
      ],
      "execution_count": 8,
      "outputs": [
        {
          "output_type": "stream",
          "name": "stdout",
          "text": [
            "Drive already mounted at /content/drive; to attempt to forcibly remount, call drive.mount(\"/content/drive\", force_remount=True).\n"
          ]
        }
      ]
    },
    {
      "cell_type": "code",
      "metadata": {
        "id": "yC78CVIgZylr"
      },
      "source": [
        "import pyspark\n",
        "from pyspark.sql import SparkSession"
      ],
      "execution_count": 9,
      "outputs": []
    },
    {
      "cell_type": "code",
      "metadata": {
        "id": "O-1Ee-REZ030"
      },
      "source": [
        "spark = SparkSession.builder.appName('SparkML_1').getOrCreate()"
      ],
      "execution_count": 10,
      "outputs": []
    },
    {
      "cell_type": "code",
      "metadata": {
        "colab": {
          "base_uri": "https://localhost:8080/",
          "height": 219
        },
        "id": "j9cQw4bGZ39D",
        "outputId": "43b013b4-1534-4fb1-ac5f-9dd91b39d0bd"
      },
      "source": [
        "spark"
      ],
      "execution_count": 11,
      "outputs": [
        {
          "output_type": "execute_result",
          "data": {
            "text/plain": [
              "<pyspark.sql.session.SparkSession at 0x7f087b9eba30>"
            ],
            "text/html": [
              "\n",
              "            <div>\n",
              "                <p><b>SparkSession - in-memory</b></p>\n",
              "                \n",
              "        <div>\n",
              "            <p><b>SparkContext</b></p>\n",
              "\n",
              "            <p><a href=\"http://3c88ce0f8b4f:4040\">Spark UI</a></p>\n",
              "\n",
              "            <dl>\n",
              "              <dt>Version</dt>\n",
              "                <dd><code>v3.0.1</code></dd>\n",
              "              <dt>Master</dt>\n",
              "                <dd><code>local[*]</code></dd>\n",
              "              <dt>AppName</dt>\n",
              "                <dd><code>SparkML_1</code></dd>\n",
              "            </dl>\n",
              "        </div>\n",
              "        \n",
              "            </div>\n",
              "        "
            ]
          },
          "metadata": {},
          "execution_count": 11
        }
      ]
    },
    {
      "cell_type": "code",
      "metadata": {
        "id": "AD283PwAZhAz"
      },
      "source": [
        "bankDataSchema = StructType([\n",
        "                 StructField(\"seqId\",IntegerType(),True),\n",
        "                 StructField(\"age\",IntegerType(),True),\n",
        "                 StructField(\"job\",StringType(),True),\n",
        "                 StructField(\"maritalStatus\",StringType(),True),\n",
        "                 StructField(\"education\",StringType(),True),\n",
        "                 StructField(\"default\",StringType(),True),\n",
        "                 StructField(\"balance\",DoubleType(),True),\n",
        "                 StructField(\"housing\",StringType(),True),\n",
        "                 StructField(\"loan\",StringType(),True),\n",
        "                 StructField(\"contact\",StringType(),True),\n",
        "                 StructField(\"day\",IntegerType(),True),\n",
        "                 StructField(\"month\",StringType(),True),\n",
        "                 StructField(\"duration\",DoubleType(),True),\n",
        "                 StructField(\"campaign\",DoubleType(),True),\n",
        "                 StructField(\"pdays\",DoubleType(),True),\n",
        "                 StructField(\"previous\",DoubleType(),True),\n",
        "                 StructField(\"poutcome\",StringType(),True),\n",
        "                 StructField(\"opened_new_td_act_yes_no\",StringType(),True)\n",
        "                 ])"
      ],
      "execution_count": 12,
      "outputs": []
    },
    {
      "cell_type": "code",
      "metadata": {
        "id": "hksA2CDsZkbT"
      },
      "source": [
        "bankDF = spark.read.format('csv')\\\n",
        ".option('header','false')\\\n",
        ".option('inferSchema','true')\\\n",
        ".load(\"/content/drive/MyDrive/bank_data.csv\", schema=bankDataSchema)"
      ],
      "execution_count": 13,
      "outputs": []
    },
    {
      "cell_type": "code",
      "metadata": {
        "colab": {
          "base_uri": "https://localhost:8080/"
        },
        "id": "WgpBu-2XaBXV",
        "outputId": "4163163d-fb03-40b0-d3be-305f66a07c96"
      },
      "source": [
        "bankDF.printSchema()"
      ],
      "execution_count": 14,
      "outputs": [
        {
          "output_type": "stream",
          "name": "stdout",
          "text": [
            "root\n",
            " |-- seqId: integer (nullable = true)\n",
            " |-- age: integer (nullable = true)\n",
            " |-- job: string (nullable = true)\n",
            " |-- maritalStatus: string (nullable = true)\n",
            " |-- education: string (nullable = true)\n",
            " |-- default: string (nullable = true)\n",
            " |-- balance: double (nullable = true)\n",
            " |-- housing: string (nullable = true)\n",
            " |-- loan: string (nullable = true)\n",
            " |-- contact: string (nullable = true)\n",
            " |-- day: integer (nullable = true)\n",
            " |-- month: string (nullable = true)\n",
            " |-- duration: double (nullable = true)\n",
            " |-- campaign: double (nullable = true)\n",
            " |-- pdays: double (nullable = true)\n",
            " |-- previous: double (nullable = true)\n",
            " |-- poutcome: string (nullable = true)\n",
            " |-- opened_new_td_act_yes_no: string (nullable = true)\n",
            "\n"
          ]
        }
      ]
    },
    {
      "cell_type": "code",
      "metadata": {
        "colab": {
          "base_uri": "https://localhost:8080/"
        },
        "id": "KMubwv51aEf7",
        "outputId": "e1a319f5-4718-4ee4-f865-dc82f2a6f3c0"
      },
      "source": [
        "bankDF.dtypes"
      ],
      "execution_count": 15,
      "outputs": [
        {
          "output_type": "execute_result",
          "data": {
            "text/plain": [
              "[('seqId', 'int'),\n",
              " ('age', 'int'),\n",
              " ('job', 'string'),\n",
              " ('maritalStatus', 'string'),\n",
              " ('education', 'string'),\n",
              " ('default', 'string'),\n",
              " ('balance', 'double'),\n",
              " ('housing', 'string'),\n",
              " ('loan', 'string'),\n",
              " ('contact', 'string'),\n",
              " ('day', 'int'),\n",
              " ('month', 'string'),\n",
              " ('duration', 'double'),\n",
              " ('campaign', 'double'),\n",
              " ('pdays', 'double'),\n",
              " ('previous', 'double'),\n",
              " ('poutcome', 'string'),\n",
              " ('opened_new_td_act_yes_no', 'string')]"
            ]
          },
          "metadata": {},
          "execution_count": 15
        }
      ]
    },
    {
      "cell_type": "code",
      "metadata": {
        "colab": {
          "base_uri": "https://localhost:8080/"
        },
        "id": "GDg5gIbHaGXi",
        "outputId": "42b72605-2fba-4ed2-bd4c-f5957728d199"
      },
      "source": [
        "bankDF.show(3)"
      ],
      "execution_count": 16,
      "outputs": [
        {
          "output_type": "stream",
          "name": "stdout",
          "text": [
            "+-----+---+----------+-------------+---------+-------+-------+-------+----+--------+---+-----+--------+--------+-----+--------+--------+------------------------+\n",
            "|seqId|age|       job|maritalStatus|education|default|balance|housing|loan| contact|day|month|duration|campaign|pdays|previous|poutcome|opened_new_td_act_yes_no|\n",
            "+-----+---+----------+-------------+---------+-------+-------+-------+----+--------+---+-----+--------+--------+-----+--------+--------+------------------------+\n",
            "| 1001| 30|unemployed|      married|  primary|     no| 1787.0|     no|  no|cellular| 19|  oct|    79.0|     1.0| -1.0|     0.0| unknown|                      no|\n",
            "| 1002| 33|  services|      married|secondary|     no| 4789.0|    yes| yes|cellular| 11|  may|   220.0|     1.0|339.0|     4.0| failure|                      no|\n",
            "| 1003| 35|management|       single| tertiary|     no| 1350.0|    yes|  no|cellular| 16|  apr|   185.0|     1.0|330.0|     1.0| failure|                      no|\n",
            "+-----+---+----------+-------------+---------+-------+-------+-------+----+--------+---+-----+--------+--------+-----+--------+--------+------------------------+\n",
            "only showing top 3 rows\n",
            "\n"
          ]
        }
      ]
    },
    {
      "cell_type": "code",
      "metadata": {
        "colab": {
          "base_uri": "https://localhost:8080/"
        },
        "id": "Yk0qd_cVaID6",
        "outputId": "58ea3ffc-1cee-41ba-cb75-abddbb8720a1"
      },
      "source": [
        "bankDF.cache()"
      ],
      "execution_count": 17,
      "outputs": [
        {
          "output_type": "execute_result",
          "data": {
            "text/plain": [
              "DataFrame[seqId: int, age: int, job: string, maritalStatus: string, education: string, default: string, balance: double, housing: string, loan: string, contact: string, day: int, month: string, duration: double, campaign: double, pdays: double, previous: double, poutcome: string, opened_new_td_act_yes_no: string]"
            ]
          },
          "metadata": {},
          "execution_count": 17
        }
      ]
    },
    {
      "cell_type": "code",
      "metadata": {
        "colab": {
          "base_uri": "https://localhost:8080/"
        },
        "id": "0RT8nsbiaLR5",
        "outputId": "198f861f-8f4d-4fc5-bbf0-58a4de0d3acf"
      },
      "source": [
        "bankDF.take(2)"
      ],
      "execution_count": 18,
      "outputs": [
        {
          "output_type": "execute_result",
          "data": {
            "text/plain": [
              "[Row(seqId=1001, age=30, job='unemployed', maritalStatus='married', education='primary', default='no', balance=1787.0, housing='no', loan='no', contact='cellular', day=19, month='oct', duration=79.0, campaign=1.0, pdays=-1.0, previous=0.0, poutcome='unknown', opened_new_td_act_yes_no='no'),\n",
              " Row(seqId=1002, age=33, job='services', maritalStatus='married', education='secondary', default='no', balance=4789.0, housing='yes', loan='yes', contact='cellular', day=11, month='may', duration=220.0, campaign=1.0, pdays=339.0, previous=4.0, poutcome='failure', opened_new_td_act_yes_no='no')]"
            ]
          },
          "metadata": {},
          "execution_count": 18
        }
      ]
    },
    {
      "cell_type": "code",
      "metadata": {
        "colab": {
          "base_uri": "https://localhost:8080/"
        },
        "id": "r58nbRzTaNOC",
        "outputId": "d5407c70-0802-458b-b2ab-7cd69a52c54b"
      },
      "source": [
        "len(bankDF.columns)"
      ],
      "execution_count": 19,
      "outputs": [
        {
          "output_type": "execute_result",
          "data": {
            "text/plain": [
              "18"
            ]
          },
          "metadata": {},
          "execution_count": 19
        }
      ]
    },
    {
      "cell_type": "code",
      "metadata": {
        "colab": {
          "base_uri": "https://localhost:8080/"
        },
        "id": "Emy3YoFzaQWP",
        "outputId": "df09a03f-cf88-4fac-8b79-a423020bf622"
      },
      "source": [
        "bankDF.count()"
      ],
      "execution_count": 20,
      "outputs": [
        {
          "output_type": "execute_result",
          "data": {
            "text/plain": [
              "4521"
            ]
          },
          "metadata": {},
          "execution_count": 20
        }
      ]
    },
    {
      "cell_type": "code",
      "metadata": {
        "id": "QWLk3o4QaSZW"
      },
      "source": [
        "bankDF = bankDF.drop('seqId')"
      ],
      "execution_count": 21,
      "outputs": []
    },
    {
      "cell_type": "code",
      "metadata": {
        "colab": {
          "base_uri": "https://localhost:8080/"
        },
        "id": "DaG9X98raUL6",
        "outputId": "7d4a9f7c-60db-4663-830a-f30014f29427"
      },
      "source": [
        "len(bankDF.columns)"
      ],
      "execution_count": 22,
      "outputs": [
        {
          "output_type": "execute_result",
          "data": {
            "text/plain": [
              "17"
            ]
          },
          "metadata": {},
          "execution_count": 22
        }
      ]
    },
    {
      "cell_type": "code",
      "metadata": {
        "colab": {
          "base_uri": "https://localhost:8080/"
        },
        "id": "YWzYt9dVaV9H",
        "outputId": "1ea05235-3b64-4a7e-a6a9-69b167053e1c"
      },
      "source": [
        "bankDF.describe().show()"
      ],
      "execution_count": 23,
      "outputs": [
        {
          "output_type": "stream",
          "name": "stdout",
          "text": [
            "+-------+------------------+-------+-------------+---------+-------+------------------+-------+----+--------+------------------+-----+------------------+------------------+------------------+------------------+--------+------------------------+\n",
            "|summary|               age|    job|maritalStatus|education|default|           balance|housing|loan| contact|               day|month|          duration|          campaign|             pdays|          previous|poutcome|opened_new_td_act_yes_no|\n",
            "+-------+------------------+-------+-------------+---------+-------+------------------+-------+----+--------+------------------+-----+------------------+------------------+------------------+------------------+--------+------------------------+\n",
            "|  count|              4521|   4521|         4521|     4521|   4521|              4521|   4521|4521|    4521|              4521| 4521|              4521|              4521|              4521|              4521|    4521|                    4521|\n",
            "|   mean| 41.17009511170095|   null|         null|     null|   null|1422.6578190665782|   null|null|    null|15.915284229152842| null|263.96129174961294| 2.793629727936297|39.766644547666445|0.5425790754257908|    null|                    null|\n",
            "| stddev|10.576210958711263|   null|         null|     null|   null|3009.6381424673395|   null|null|    null| 8.247667327229934| null|259.85663262468216|3.1098066601885823|100.12112444301656|1.6935623506071211|    null|                    null|\n",
            "|    min|                19| admin.|     divorced|  primary|     no|           -3313.0|     no|  no|cellular|                 1|  apr|               4.0|               1.0|              -1.0|               0.0| failure|                      no|\n",
            "|    max|                87|unknown|       single|  unknown|    yes|           71188.0|    yes| yes| unknown|                31|  sep|            3025.0|              50.0|             871.0|              25.0| unknown|                     yes|\n",
            "+-------+------------------+-------+-------------+---------+-------+------------------+-------+----+--------+------------------+-----+------------------+------------------+------------------+------------------+--------+------------------------+\n",
            "\n"
          ]
        }
      ]
    },
    {
      "cell_type": "code",
      "metadata": {
        "colab": {
          "base_uri": "https://localhost:8080/"
        },
        "id": "k3V8LeZNaXl9",
        "outputId": "ce7bedf8-54d4-4f23-f939-69ffb2ab85d8"
      },
      "source": [
        "bankDF.describe().select('summary','age','loan','balance','pdays').show()"
      ],
      "execution_count": 24,
      "outputs": [
        {
          "output_type": "stream",
          "name": "stdout",
          "text": [
            "+-------+------------------+----+------------------+------------------+\n",
            "|summary|               age|loan|           balance|             pdays|\n",
            "+-------+------------------+----+------------------+------------------+\n",
            "|  count|              4521|4521|              4521|              4521|\n",
            "|   mean| 41.17009511170095|null|1422.6578190665782|39.766644547666445|\n",
            "| stddev|10.576210958711263|null|3009.6381424673395|100.12112444301656|\n",
            "|    min|                19|  no|           -3313.0|              -1.0|\n",
            "|    max|                87| yes|           71188.0|             871.0|\n",
            "+-------+------------------+----+------------------+------------------+\n",
            "\n"
          ]
        }
      ]
    },
    {
      "cell_type": "code",
      "metadata": {
        "colab": {
          "base_uri": "https://localhost:8080/"
        },
        "id": "6D-98kGmaZ1Y",
        "outputId": "4ead3274-1c89-4c0b-c9bd-061e881ce9c4"
      },
      "source": [
        "bankDF.agg(*(min(col(c)).alias(c) for c in bankDF.columns)).show()"
      ],
      "execution_count": 25,
      "outputs": [
        {
          "output_type": "stream",
          "name": "stdout",
          "text": [
            "+---+------+-------------+---------+-------+-------+-------+----+--------+---+-----+--------+--------+-----+--------+--------+------------------------+\n",
            "|age|   job|maritalStatus|education|default|balance|housing|loan| contact|day|month|duration|campaign|pdays|previous|poutcome|opened_new_td_act_yes_no|\n",
            "+---+------+-------------+---------+-------+-------+-------+----+--------+---+-----+--------+--------+-----+--------+--------+------------------------+\n",
            "| 19|admin.|     divorced|  primary|     no|-3313.0|     no|  no|cellular|  1|  apr|     4.0|     1.0| -1.0|     0.0| failure|                      no|\n",
            "+---+------+-------------+---------+-------+-------+-------+----+--------+---+-----+--------+--------+-----+--------+--------+------------------------+\n",
            "\n"
          ]
        }
      ]
    },
    {
      "cell_type": "code",
      "metadata": {
        "colab": {
          "base_uri": "https://localhost:8080/"
        },
        "id": "SKPsCxK-abxj",
        "outputId": "26263c07-699c-42ba-c92a-a71dbb719b8a"
      },
      "source": [
        "bankDF.where(bankDF.balance < 0).count()"
      ],
      "execution_count": 26,
      "outputs": [
        {
          "output_type": "execute_result",
          "data": {
            "text/plain": [
              "366"
            ]
          },
          "metadata": {},
          "execution_count": 26
        }
      ]
    },
    {
      "cell_type": "code",
      "metadata": {
        "colab": {
          "base_uri": "https://localhost:8080/"
        },
        "id": "TAIXow7haeRd",
        "outputId": "a3eb5860-f850-4cc8-bf74-fe4450c02b07"
      },
      "source": [
        "from pyspark.sql.functions import when \n",
        "bankDF = bankDF.withColumn('balance',when(bankDF.balance>0,bankDF.balance).otherwise(0))\n",
        "zerobalanceDF = bankDF.where(bankDF.balance < 0)\n",
        "zerobalanceDF.count()"
      ],
      "execution_count": 27,
      "outputs": [
        {
          "output_type": "execute_result",
          "data": {
            "text/plain": [
              "0"
            ]
          },
          "metadata": {},
          "execution_count": 27
        }
      ]
    },
    {
      "cell_type": "code",
      "metadata": {
        "id": "bBXOvBi7agxI"
      },
      "source": [
        "bankDF.createOrReplaceTempView('bankDFTable')"
      ],
      "execution_count": 28,
      "outputs": []
    },
    {
      "cell_type": "code",
      "metadata": {
        "id": "4_94LRs5aix1"
      },
      "source": [
        "resultDF = spark.sql(\"\"\"\n",
        " SELECT opened_new_td_act_yes_no, COUNT(*) AS count\n",
        " FROM bankDFTable\n",
        " GROUP BY opened_new_td_act_yes_no\n",
        "\"\"\")"
      ],
      "execution_count": 29,
      "outputs": []
    },
    {
      "cell_type": "code",
      "metadata": {
        "colab": {
          "base_uri": "https://localhost:8080/"
        },
        "id": "CLl0EIhaak-7",
        "outputId": "3237d5ab-1089-4598-f29f-2f8916309c17"
      },
      "source": [
        "resultDF.show()"
      ],
      "execution_count": 30,
      "outputs": [
        {
          "output_type": "stream",
          "name": "stdout",
          "text": [
            "+------------------------+-----+\n",
            "|opened_new_td_act_yes_no|count|\n",
            "+------------------------+-----+\n",
            "|                      no| 4000|\n",
            "|                     yes|  521|\n",
            "+------------------------+-----+\n",
            "\n"
          ]
        }
      ]
    },
    {
      "cell_type": "code",
      "metadata": {
        "colab": {
          "base_uri": "https://localhost:8080/"
        },
        "id": "8-C6JNlwanJ3",
        "outputId": "81fac757-4c47-446f-c584-5f483f75ef41"
      },
      "source": [
        "bankDF.groupBy(\"opened_new_td_act_yes_no\").count().show()"
      ],
      "execution_count": 31,
      "outputs": [
        {
          "output_type": "stream",
          "name": "stdout",
          "text": [
            "+------------------------+-----+\n",
            "|opened_new_td_act_yes_no|count|\n",
            "+------------------------+-----+\n",
            "|                      no| 4000|\n",
            "|                     yes|  521|\n",
            "+------------------------+-----+\n",
            "\n"
          ]
        }
      ]
    },
    {
      "cell_type": "code",
      "metadata": {
        "colab": {
          "base_uri": "https://localhost:8080/",
          "height": 17
        },
        "id": "inHmlfzoapRt",
        "outputId": "f088a099-b31b-4092-c236-2f7b8a285442"
      },
      "source": [
        "import matplotlib.pyplot as plt\n",
        "import seaborn as sns\n",
        "import chart_studio\n",
        "import plotly\n",
        "chart_studio.tools.set_credentials_file(username='ananthuraj619',api_key='1zuPa4TSw93mqDo0gWsI')\n",
        "import plotly.figure_factory as ff\n",
        "import chart_studio.plotly as py\n",
        "import plotly.offline as pyoff\n",
        "import plotly.graph_objects as go\n",
        "import warnings\n",
        "### Initialize settings \n",
        "sns.set_style('whitegrid')\n",
        "sns.set(color_codes=True)\n",
        "warnings.filterwarnings('ignore')\n",
        "pyoff.init_notebook_mode(connected=True)\n",
        "get_ipython().magic('matplotlib inline')"
      ],
      "execution_count": 32,
      "outputs": [
        {
          "output_type": "display_data",
          "data": {
            "text/html": [
              "        <script type=\"text/javascript\">\n",
              "        window.PlotlyConfig = {MathJaxConfig: 'local'};\n",
              "        if (window.MathJax) {MathJax.Hub.Config({SVG: {font: \"STIX-Web\"}});}\n",
              "        if (typeof require !== 'undefined') {\n",
              "        require.undef(\"plotly\");\n",
              "        requirejs.config({\n",
              "            paths: {\n",
              "                'plotly': ['https://cdn.plot.ly/plotly-2.8.3.min']\n",
              "            }\n",
              "        });\n",
              "        require(['plotly'], function(Plotly) {\n",
              "            window._Plotly = Plotly;\n",
              "        });\n",
              "        }\n",
              "        </script>\n",
              "        "
            ]
          },
          "metadata": {}
        }
      ]
    },
    {
      "cell_type": "code",
      "metadata": {
        "colab": {
          "base_uri": "https://localhost:8080/",
          "height": 546
        },
        "id": "13r8s0XNazLH",
        "outputId": "29f2def7-ee37-443b-a4b0-4afdee95aa2c"
      },
      "source": [
        "pdDF = resultDF.toPandas()\n",
        "data = [\n",
        "        go.Bar(\n",
        "            x=pdDF['opened_new_td_act_yes_no'],\n",
        "            y=pdDF['count']\n",
        "        )\n",
        "\n",
        "]\n",
        "layout = go.Layout(title='Term Deposit Yes/No Counts')\n",
        "fig = go.Figure(data=data,layout=layout)\n",
        "py.iplot(fig)"
      ],
      "execution_count": 33,
      "outputs": [
        {
          "output_type": "execute_result",
          "data": {
            "text/plain": [
              "<IPython.lib.display.IFrame at 0x7f08702ef430>"
            ],
            "text/html": [
              "\n",
              "        <iframe\n",
              "            width=\"100%\"\n",
              "            height=\"525px\"\n",
              "            src=\"https://plotly.com/~ananthuraj619/1.embed\"\n",
              "            frameborder=\"0\"\n",
              "            allowfullscreen\n",
              "        ></iframe>\n",
              "        "
            ]
          },
          "metadata": {},
          "execution_count": 33
        }
      ]
    },
    {
      "cell_type": "markdown",
      "metadata": {
        "id": "4LZ6Q0_Pa9iY"
      },
      "source": [
        "### Other variables that could be considered for exploratory data analysis"
      ]
    },
    {
      "cell_type": "markdown",
      "metadata": {
        "id": "GujXvPLfbFDV"
      },
      "source": [
        "loan vs opened_new_td_act_yes_no</br>\n",
        "marital_status vs opened_new_td_act_yes_no</br>\n",
        "job vs opened_new_td_act_yes_no</br>\n",
        "education </br>\n",
        "Divorced,married, single </br>"
      ]
    },
    {
      "cell_type": "code",
      "metadata": {
        "id": "9FdXKA2wbDfi"
      },
      "source": [
        "resultDF = bankDF.crosstab('opened_new_td_act_yes_no','loan')"
      ],
      "execution_count": 34,
      "outputs": []
    },
    {
      "cell_type": "code",
      "metadata": {
        "colab": {
          "base_uri": "https://localhost:8080/"
        },
        "id": "UvuW2ynTbOPY",
        "outputId": "18d8d7de-0056-48ad-8c0e-e7370d02bc0c"
      },
      "source": [
        "resultDF.show()"
      ],
      "execution_count": 35,
      "outputs": [
        {
          "output_type": "stream",
          "name": "stdout",
          "text": [
            "+-----------------------------+----+---+\n",
            "|opened_new_td_act_yes_no_loan|  no|yes|\n",
            "+-----------------------------+----+---+\n",
            "|                          yes| 478| 43|\n",
            "|                           no|3352|648|\n",
            "+-----------------------------+----+---+\n",
            "\n"
          ]
        }
      ]
    },
    {
      "cell_type": "code",
      "metadata": {
        "id": "llrcOpM_bQ36"
      },
      "source": [
        "pdDF = resultDF.toPandas()"
      ],
      "execution_count": 36,
      "outputs": []
    },
    {
      "cell_type": "code",
      "metadata": {
        "id": "fGwjLeNCbViF"
      },
      "source": [
        "pdDF.columns = ['opened_new_td_act_yes_no_loan','No_Existing_loan','Existing_loan']"
      ],
      "execution_count": 37,
      "outputs": []
    },
    {
      "cell_type": "code",
      "metadata": {
        "colab": {
          "base_uri": "https://localhost:8080/",
          "height": 546
        },
        "id": "FNrDZdLubXG5",
        "outputId": "f63d33c0-92ab-4db1-fb30-efa5026270c0"
      },
      "source": [
        "data = [\n",
        "     go.Bar(\n",
        "            x=['Opted_for_loan','No_opted_loan'],\n",
        "            y=pdDF['No_Existing_loan'],\n",
        "            name='No Existing Loans'\n",
        "        ),\n",
        "     go.Bar(\n",
        "         x = ['Opted_for_loan','Not_opted_loan'],\n",
        "         y = pdDF['Existing_loan'],\n",
        "         name = 'Existing Loans'\n",
        "     ) \n",
        "]\n",
        "layout=go.Layout(\n",
        "    title='Exsiting/Non-existing loans - Counts'\n",
        ")\n",
        "fig = go.Figure(data=data,layout=layout)\n",
        "py.iplot(fig)  "
      ],
      "execution_count": 38,
      "outputs": [
        {
          "output_type": "execute_result",
          "data": {
            "text/plain": [
              "<IPython.lib.display.IFrame at 0x7f08735afe20>"
            ],
            "text/html": [
              "\n",
              "        <iframe\n",
              "            width=\"100%\"\n",
              "            height=\"525px\"\n",
              "            src=\"https://plotly.com/~ananthuraj619/3.embed\"\n",
              "            frameborder=\"0\"\n",
              "            allowfullscreen\n",
              "        ></iframe>\n",
              "        "
            ]
          },
          "metadata": {},
          "execution_count": 38
        }
      ]
    },
    {
      "cell_type": "code",
      "metadata": {
        "id": "BcFvFpFebZYQ"
      },
      "source": [
        "### For different job categories \n",
        "resultDF = spark.sql(\"\"\"\n",
        "SELECT \n",
        "   job,\n",
        "   COUNT(*) AS term_deposit_yes_cnt\n",
        "   FROM bankDFTable\n",
        "   WHERE opened_new_td_act_yes_no = \"yes\"\n",
        "   GROUP BY job\n",
        "\"\"\")"
      ],
      "execution_count": 39,
      "outputs": []
    },
    {
      "cell_type": "code",
      "metadata": {
        "colab": {
          "base_uri": "https://localhost:8080/",
          "height": 546
        },
        "id": "GlO3fByvbd9C",
        "outputId": "a3b3c5ed-3d90-4a74-d895-fcdfe5ab3904"
      },
      "source": [
        "pdDF = resultDF.toPandas()\n",
        "data = [\n",
        "       go.Bar(\n",
        "           x = pdDF['job'],\n",
        "           y = pdDF['term_deposit_yes_cnt']\n",
        "       ) \n",
        "]\n",
        "layout = go.Layout(title=\"Term deposit counts in each job category\")\n",
        "fig = go.Figure(data=data,layout=layout)\n",
        "py.iplot(fig)"
      ],
      "execution_count": 40,
      "outputs": [
        {
          "output_type": "execute_result",
          "data": {
            "text/plain": [
              "<IPython.lib.display.IFrame at 0x7f08702eff40>"
            ],
            "text/html": [
              "\n",
              "        <iframe\n",
              "            width=\"100%\"\n",
              "            height=\"525px\"\n",
              "            src=\"https://plotly.com/~ananthuraj619/5.embed\"\n",
              "            frameborder=\"0\"\n",
              "            allowfullscreen\n",
              "        ></iframe>\n",
              "        "
            ]
          },
          "metadata": {},
          "execution_count": 40
        }
      ]
    },
    {
      "cell_type": "code",
      "metadata": {
        "id": "JA6KnN2xbgDs"
      },
      "source": [
        "### For different job categories \n",
        "resultDF = spark.sql(\"\"\"\n",
        "SELECT \n",
        "   job,\n",
        "   COUNT(*) AS term_deposit_no_cnt\n",
        "   FROM bankDFTable\n",
        "   WHERE opened_new_td_act_yes_no = \"no\"\n",
        "   GROUP BY job\n",
        "\"\"\")"
      ],
      "execution_count": 41,
      "outputs": []
    },
    {
      "cell_type": "code",
      "source": [],
      "metadata": {
        "id": "6Ayn-zyMzU9K"
      },
      "execution_count": 41,
      "outputs": []
    },
    {
      "cell_type": "code",
      "metadata": {
        "colab": {
          "base_uri": "https://localhost:8080/",
          "height": 546
        },
        "id": "uJvmJHxLbnk5",
        "outputId": "9fd31e3c-6f2d-4c35-f5fc-cffe3e70f0a1"
      },
      "source": [
        "pdDF = resultDF.toPandas()\n",
        "data = [\n",
        "       go.Bar(\n",
        "           x = pdDF['job'],\n",
        "           y = pdDF['term_deposit_no_cnt']\n",
        "       ) \n",
        "]\n",
        "layout = go.Layout(title=\"Term deposit not opted counts in each job category\")\n",
        "fig = go.Figure(data=data,layout=layout)\n",
        "py.iplot(fig)"
      ],
      "execution_count": 42,
      "outputs": [
        {
          "output_type": "execute_result",
          "data": {
            "text/plain": [
              "<IPython.lib.display.IFrame at 0x7f0870291eb0>"
            ],
            "text/html": [
              "\n",
              "        <iframe\n",
              "            width=\"100%\"\n",
              "            height=\"525px\"\n",
              "            src=\"https://plotly.com/~ananthuraj619/7.embed\"\n",
              "            frameborder=\"0\"\n",
              "            allowfullscreen\n",
              "        ></iframe>\n",
              "        "
            ]
          },
          "metadata": {},
          "execution_count": 42
        }
      ]
    },
    {
      "cell_type": "code",
      "metadata": {
        "colab": {
          "base_uri": "https://localhost:8080/"
        },
        "id": "qOJ18CMVbpnR",
        "outputId": "e4865998-2bf9-4c29-c9b7-82707753ac17"
      },
      "source": [
        "resultDF = bankDF.filter(expr(\"opened_new_td_act_yes_no='yes'\")).groupBy(\"education\").count()\n",
        "resultDF.show()"
      ],
      "execution_count": 43,
      "outputs": [
        {
          "output_type": "stream",
          "name": "stdout",
          "text": [
            "+---------+-----+\n",
            "|education|count|\n",
            "+---------+-----+\n",
            "|  unknown|   19|\n",
            "| tertiary|  193|\n",
            "|secondary|  245|\n",
            "|  primary|   64|\n",
            "+---------+-----+\n",
            "\n"
          ]
        }
      ]
    },
    {
      "cell_type": "code",
      "metadata": {
        "colab": {
          "base_uri": "https://localhost:8080/",
          "height": 546
        },
        "id": "rWpi5DD7btX5",
        "outputId": "87f4259e-49a1-4534-93a3-552d8fbe7028"
      },
      "source": [
        "pdDF = resultDF.toPandas()\n",
        "data = [\n",
        "      go.Bar(\n",
        "          x = pdDF['education'],\n",
        "          y = pdDF['count']\n",
        "      )  \n",
        "]\n",
        "layout = go.Layout(title=\"Term deposit opted count in each education level\")\n",
        "fig = go.Figure(data=data,layout=layout)\n",
        "py.iplot(fig)"
      ],
      "execution_count": 44,
      "outputs": [
        {
          "output_type": "execute_result",
          "data": {
            "text/plain": [
              "<IPython.lib.display.IFrame at 0x7f087b84bc40>"
            ],
            "text/html": [
              "\n",
              "        <iframe\n",
              "            width=\"100%\"\n",
              "            height=\"525px\"\n",
              "            src=\"https://plotly.com/~ananthuraj619/9.embed\"\n",
              "            frameborder=\"0\"\n",
              "            allowfullscreen\n",
              "        ></iframe>\n",
              "        "
            ]
          },
          "metadata": {},
          "execution_count": 44
        }
      ]
    },
    {
      "cell_type": "code",
      "metadata": {
        "colab": {
          "base_uri": "https://localhost:8080/",
          "height": 270
        },
        "id": "PeR37_O9bvjS",
        "outputId": "209bf45e-3c13-43b2-8bd3-947d101b3872"
      },
      "source": [
        "bankDF_pd = bankDF.toPandas()\n",
        "bankDF_pd.head()"
      ],
      "execution_count": 45,
      "outputs": [
        {
          "output_type": "execute_result",
          "data": {
            "text/plain": [
              "   age          job maritalStatus  education default  balance housing loan  \\\n",
              "0   30   unemployed       married    primary      no   1787.0      no   no   \n",
              "1   33     services       married  secondary      no   4789.0     yes  yes   \n",
              "2   35   management        single   tertiary      no   1350.0     yes   no   \n",
              "3   30   management       married   tertiary      no   1476.0     yes  yes   \n",
              "4   59  blue-collar       married  secondary      no      0.0     yes   no   \n",
              "\n",
              "    contact  day month  duration  campaign  pdays  previous poutcome  \\\n",
              "0  cellular   19   oct      79.0       1.0   -1.0       0.0  unknown   \n",
              "1  cellular   11   may     220.0       1.0  339.0       4.0  failure   \n",
              "2  cellular   16   apr     185.0       1.0  330.0       1.0  failure   \n",
              "3   unknown    3   jun     199.0       4.0   -1.0       0.0  unknown   \n",
              "4   unknown    5   may     226.0       1.0   -1.0       0.0  unknown   \n",
              "\n",
              "  opened_new_td_act_yes_no  \n",
              "0                       no  \n",
              "1                       no  \n",
              "2                       no  \n",
              "3                       no  \n",
              "4                       no  "
            ],
            "text/html": [
              "\n",
              "  <div id=\"df-d09e65ce-f05b-4a15-9767-835732f34a20\">\n",
              "    <div class=\"colab-df-container\">\n",
              "      <div>\n",
              "<style scoped>\n",
              "    .dataframe tbody tr th:only-of-type {\n",
              "        vertical-align: middle;\n",
              "    }\n",
              "\n",
              "    .dataframe tbody tr th {\n",
              "        vertical-align: top;\n",
              "    }\n",
              "\n",
              "    .dataframe thead th {\n",
              "        text-align: right;\n",
              "    }\n",
              "</style>\n",
              "<table border=\"1\" class=\"dataframe\">\n",
              "  <thead>\n",
              "    <tr style=\"text-align: right;\">\n",
              "      <th></th>\n",
              "      <th>age</th>\n",
              "      <th>job</th>\n",
              "      <th>maritalStatus</th>\n",
              "      <th>education</th>\n",
              "      <th>default</th>\n",
              "      <th>balance</th>\n",
              "      <th>housing</th>\n",
              "      <th>loan</th>\n",
              "      <th>contact</th>\n",
              "      <th>day</th>\n",
              "      <th>month</th>\n",
              "      <th>duration</th>\n",
              "      <th>campaign</th>\n",
              "      <th>pdays</th>\n",
              "      <th>previous</th>\n",
              "      <th>poutcome</th>\n",
              "      <th>opened_new_td_act_yes_no</th>\n",
              "    </tr>\n",
              "  </thead>\n",
              "  <tbody>\n",
              "    <tr>\n",
              "      <th>0</th>\n",
              "      <td>30</td>\n",
              "      <td>unemployed</td>\n",
              "      <td>married</td>\n",
              "      <td>primary</td>\n",
              "      <td>no</td>\n",
              "      <td>1787.0</td>\n",
              "      <td>no</td>\n",
              "      <td>no</td>\n",
              "      <td>cellular</td>\n",
              "      <td>19</td>\n",
              "      <td>oct</td>\n",
              "      <td>79.0</td>\n",
              "      <td>1.0</td>\n",
              "      <td>-1.0</td>\n",
              "      <td>0.0</td>\n",
              "      <td>unknown</td>\n",
              "      <td>no</td>\n",
              "    </tr>\n",
              "    <tr>\n",
              "      <th>1</th>\n",
              "      <td>33</td>\n",
              "      <td>services</td>\n",
              "      <td>married</td>\n",
              "      <td>secondary</td>\n",
              "      <td>no</td>\n",
              "      <td>4789.0</td>\n",
              "      <td>yes</td>\n",
              "      <td>yes</td>\n",
              "      <td>cellular</td>\n",
              "      <td>11</td>\n",
              "      <td>may</td>\n",
              "      <td>220.0</td>\n",
              "      <td>1.0</td>\n",
              "      <td>339.0</td>\n",
              "      <td>4.0</td>\n",
              "      <td>failure</td>\n",
              "      <td>no</td>\n",
              "    </tr>\n",
              "    <tr>\n",
              "      <th>2</th>\n",
              "      <td>35</td>\n",
              "      <td>management</td>\n",
              "      <td>single</td>\n",
              "      <td>tertiary</td>\n",
              "      <td>no</td>\n",
              "      <td>1350.0</td>\n",
              "      <td>yes</td>\n",
              "      <td>no</td>\n",
              "      <td>cellular</td>\n",
              "      <td>16</td>\n",
              "      <td>apr</td>\n",
              "      <td>185.0</td>\n",
              "      <td>1.0</td>\n",
              "      <td>330.0</td>\n",
              "      <td>1.0</td>\n",
              "      <td>failure</td>\n",
              "      <td>no</td>\n",
              "    </tr>\n",
              "    <tr>\n",
              "      <th>3</th>\n",
              "      <td>30</td>\n",
              "      <td>management</td>\n",
              "      <td>married</td>\n",
              "      <td>tertiary</td>\n",
              "      <td>no</td>\n",
              "      <td>1476.0</td>\n",
              "      <td>yes</td>\n",
              "      <td>yes</td>\n",
              "      <td>unknown</td>\n",
              "      <td>3</td>\n",
              "      <td>jun</td>\n",
              "      <td>199.0</td>\n",
              "      <td>4.0</td>\n",
              "      <td>-1.0</td>\n",
              "      <td>0.0</td>\n",
              "      <td>unknown</td>\n",
              "      <td>no</td>\n",
              "    </tr>\n",
              "    <tr>\n",
              "      <th>4</th>\n",
              "      <td>59</td>\n",
              "      <td>blue-collar</td>\n",
              "      <td>married</td>\n",
              "      <td>secondary</td>\n",
              "      <td>no</td>\n",
              "      <td>0.0</td>\n",
              "      <td>yes</td>\n",
              "      <td>no</td>\n",
              "      <td>unknown</td>\n",
              "      <td>5</td>\n",
              "      <td>may</td>\n",
              "      <td>226.0</td>\n",
              "      <td>1.0</td>\n",
              "      <td>-1.0</td>\n",
              "      <td>0.0</td>\n",
              "      <td>unknown</td>\n",
              "      <td>no</td>\n",
              "    </tr>\n",
              "  </tbody>\n",
              "</table>\n",
              "</div>\n",
              "      <button class=\"colab-df-convert\" onclick=\"convertToInteractive('df-d09e65ce-f05b-4a15-9767-835732f34a20')\"\n",
              "              title=\"Convert this dataframe to an interactive table.\"\n",
              "              style=\"display:none;\">\n",
              "        \n",
              "  <svg xmlns=\"http://www.w3.org/2000/svg\" height=\"24px\"viewBox=\"0 0 24 24\"\n",
              "       width=\"24px\">\n",
              "    <path d=\"M0 0h24v24H0V0z\" fill=\"none\"/>\n",
              "    <path d=\"M18.56 5.44l.94 2.06.94-2.06 2.06-.94-2.06-.94-.94-2.06-.94 2.06-2.06.94zm-11 1L8.5 8.5l.94-2.06 2.06-.94-2.06-.94L8.5 2.5l-.94 2.06-2.06.94zm10 10l.94 2.06.94-2.06 2.06-.94-2.06-.94-.94-2.06-.94 2.06-2.06.94z\"/><path d=\"M17.41 7.96l-1.37-1.37c-.4-.4-.92-.59-1.43-.59-.52 0-1.04.2-1.43.59L10.3 9.45l-7.72 7.72c-.78.78-.78 2.05 0 2.83L4 21.41c.39.39.9.59 1.41.59.51 0 1.02-.2 1.41-.59l7.78-7.78 2.81-2.81c.8-.78.8-2.07 0-2.86zM5.41 20L4 18.59l7.72-7.72 1.47 1.35L5.41 20z\"/>\n",
              "  </svg>\n",
              "      </button>\n",
              "      \n",
              "  <style>\n",
              "    .colab-df-container {\n",
              "      display:flex;\n",
              "      flex-wrap:wrap;\n",
              "      gap: 12px;\n",
              "    }\n",
              "\n",
              "    .colab-df-convert {\n",
              "      background-color: #E8F0FE;\n",
              "      border: none;\n",
              "      border-radius: 50%;\n",
              "      cursor: pointer;\n",
              "      display: none;\n",
              "      fill: #1967D2;\n",
              "      height: 32px;\n",
              "      padding: 0 0 0 0;\n",
              "      width: 32px;\n",
              "    }\n",
              "\n",
              "    .colab-df-convert:hover {\n",
              "      background-color: #E2EBFA;\n",
              "      box-shadow: 0px 1px 2px rgba(60, 64, 67, 0.3), 0px 1px 3px 1px rgba(60, 64, 67, 0.15);\n",
              "      fill: #174EA6;\n",
              "    }\n",
              "\n",
              "    [theme=dark] .colab-df-convert {\n",
              "      background-color: #3B4455;\n",
              "      fill: #D2E3FC;\n",
              "    }\n",
              "\n",
              "    [theme=dark] .colab-df-convert:hover {\n",
              "      background-color: #434B5C;\n",
              "      box-shadow: 0px 1px 3px 1px rgba(0, 0, 0, 0.15);\n",
              "      filter: drop-shadow(0px 1px 2px rgba(0, 0, 0, 0.3));\n",
              "      fill: #FFFFFF;\n",
              "    }\n",
              "  </style>\n",
              "\n",
              "      <script>\n",
              "        const buttonEl =\n",
              "          document.querySelector('#df-d09e65ce-f05b-4a15-9767-835732f34a20 button.colab-df-convert');\n",
              "        buttonEl.style.display =\n",
              "          google.colab.kernel.accessAllowed ? 'block' : 'none';\n",
              "\n",
              "        async function convertToInteractive(key) {\n",
              "          const element = document.querySelector('#df-d09e65ce-f05b-4a15-9767-835732f34a20');\n",
              "          const dataTable =\n",
              "            await google.colab.kernel.invokeFunction('convertToInteractive',\n",
              "                                                     [key], {});\n",
              "          if (!dataTable) return;\n",
              "\n",
              "          const docLinkHtml = 'Like what you see? Visit the ' +\n",
              "            '<a target=\"_blank\" href=https://colab.research.google.com/notebooks/data_table.ipynb>data table notebook</a>'\n",
              "            + ' to learn more about interactive tables.';\n",
              "          element.innerHTML = '';\n",
              "          dataTable['output_type'] = 'display_data';\n",
              "          await google.colab.output.renderOutput(dataTable, element);\n",
              "          const docLink = document.createElement('div');\n",
              "          docLink.innerHTML = docLinkHtml;\n",
              "          element.appendChild(docLink);\n",
              "        }\n",
              "      </script>\n",
              "    </div>\n",
              "  </div>\n",
              "  "
            ]
          },
          "metadata": {},
          "execution_count": 45
        }
      ]
    },
    {
      "cell_type": "code",
      "metadata": {
        "colab": {
          "base_uri": "https://localhost:8080/",
          "height": 269
        },
        "id": "eLgVQwubbx4q",
        "outputId": "7b1fa838-56e6-49a2-cb10-4e2540a3f697"
      },
      "source": [
        "correlations = bankDF_pd.corr()\n",
        "correlations"
      ],
      "execution_count": 46,
      "outputs": [
        {
          "output_type": "execute_result",
          "data": {
            "text/plain": [
              "               age   balance       day  duration  campaign     pdays  previous\n",
              "age       1.000000  0.084202 -0.017853 -0.002367 -0.005148 -0.008894 -0.003511\n",
              "balance   0.084202  1.000000 -0.007595 -0.015195 -0.010840  0.008616  0.026031\n",
              "day      -0.017853 -0.007595  1.000000 -0.024629  0.160706 -0.094352 -0.059114\n",
              "duration -0.002367 -0.015195 -0.024629  1.000000 -0.068382  0.010380  0.018080\n",
              "campaign -0.005148 -0.010840  0.160706 -0.068382  1.000000 -0.093137 -0.067833\n",
              "pdays    -0.008894  0.008616 -0.094352  0.010380 -0.093137  1.000000  0.577562\n",
              "previous -0.003511  0.026031 -0.059114  0.018080 -0.067833  0.577562  1.000000"
            ],
            "text/html": [
              "\n",
              "  <div id=\"df-d13861be-73ca-496c-8863-76d7a6332eb3\">\n",
              "    <div class=\"colab-df-container\">\n",
              "      <div>\n",
              "<style scoped>\n",
              "    .dataframe tbody tr th:only-of-type {\n",
              "        vertical-align: middle;\n",
              "    }\n",
              "\n",
              "    .dataframe tbody tr th {\n",
              "        vertical-align: top;\n",
              "    }\n",
              "\n",
              "    .dataframe thead th {\n",
              "        text-align: right;\n",
              "    }\n",
              "</style>\n",
              "<table border=\"1\" class=\"dataframe\">\n",
              "  <thead>\n",
              "    <tr style=\"text-align: right;\">\n",
              "      <th></th>\n",
              "      <th>age</th>\n",
              "      <th>balance</th>\n",
              "      <th>day</th>\n",
              "      <th>duration</th>\n",
              "      <th>campaign</th>\n",
              "      <th>pdays</th>\n",
              "      <th>previous</th>\n",
              "    </tr>\n",
              "  </thead>\n",
              "  <tbody>\n",
              "    <tr>\n",
              "      <th>age</th>\n",
              "      <td>1.000000</td>\n",
              "      <td>0.084202</td>\n",
              "      <td>-0.017853</td>\n",
              "      <td>-0.002367</td>\n",
              "      <td>-0.005148</td>\n",
              "      <td>-0.008894</td>\n",
              "      <td>-0.003511</td>\n",
              "    </tr>\n",
              "    <tr>\n",
              "      <th>balance</th>\n",
              "      <td>0.084202</td>\n",
              "      <td>1.000000</td>\n",
              "      <td>-0.007595</td>\n",
              "      <td>-0.015195</td>\n",
              "      <td>-0.010840</td>\n",
              "      <td>0.008616</td>\n",
              "      <td>0.026031</td>\n",
              "    </tr>\n",
              "    <tr>\n",
              "      <th>day</th>\n",
              "      <td>-0.017853</td>\n",
              "      <td>-0.007595</td>\n",
              "      <td>1.000000</td>\n",
              "      <td>-0.024629</td>\n",
              "      <td>0.160706</td>\n",
              "      <td>-0.094352</td>\n",
              "      <td>-0.059114</td>\n",
              "    </tr>\n",
              "    <tr>\n",
              "      <th>duration</th>\n",
              "      <td>-0.002367</td>\n",
              "      <td>-0.015195</td>\n",
              "      <td>-0.024629</td>\n",
              "      <td>1.000000</td>\n",
              "      <td>-0.068382</td>\n",
              "      <td>0.010380</td>\n",
              "      <td>0.018080</td>\n",
              "    </tr>\n",
              "    <tr>\n",
              "      <th>campaign</th>\n",
              "      <td>-0.005148</td>\n",
              "      <td>-0.010840</td>\n",
              "      <td>0.160706</td>\n",
              "      <td>-0.068382</td>\n",
              "      <td>1.000000</td>\n",
              "      <td>-0.093137</td>\n",
              "      <td>-0.067833</td>\n",
              "    </tr>\n",
              "    <tr>\n",
              "      <th>pdays</th>\n",
              "      <td>-0.008894</td>\n",
              "      <td>0.008616</td>\n",
              "      <td>-0.094352</td>\n",
              "      <td>0.010380</td>\n",
              "      <td>-0.093137</td>\n",
              "      <td>1.000000</td>\n",
              "      <td>0.577562</td>\n",
              "    </tr>\n",
              "    <tr>\n",
              "      <th>previous</th>\n",
              "      <td>-0.003511</td>\n",
              "      <td>0.026031</td>\n",
              "      <td>-0.059114</td>\n",
              "      <td>0.018080</td>\n",
              "      <td>-0.067833</td>\n",
              "      <td>0.577562</td>\n",
              "      <td>1.000000</td>\n",
              "    </tr>\n",
              "  </tbody>\n",
              "</table>\n",
              "</div>\n",
              "      <button class=\"colab-df-convert\" onclick=\"convertToInteractive('df-d13861be-73ca-496c-8863-76d7a6332eb3')\"\n",
              "              title=\"Convert this dataframe to an interactive table.\"\n",
              "              style=\"display:none;\">\n",
              "        \n",
              "  <svg xmlns=\"http://www.w3.org/2000/svg\" height=\"24px\"viewBox=\"0 0 24 24\"\n",
              "       width=\"24px\">\n",
              "    <path d=\"M0 0h24v24H0V0z\" fill=\"none\"/>\n",
              "    <path d=\"M18.56 5.44l.94 2.06.94-2.06 2.06-.94-2.06-.94-.94-2.06-.94 2.06-2.06.94zm-11 1L8.5 8.5l.94-2.06 2.06-.94-2.06-.94L8.5 2.5l-.94 2.06-2.06.94zm10 10l.94 2.06.94-2.06 2.06-.94-2.06-.94-.94-2.06-.94 2.06-2.06.94z\"/><path d=\"M17.41 7.96l-1.37-1.37c-.4-.4-.92-.59-1.43-.59-.52 0-1.04.2-1.43.59L10.3 9.45l-7.72 7.72c-.78.78-.78 2.05 0 2.83L4 21.41c.39.39.9.59 1.41.59.51 0 1.02-.2 1.41-.59l7.78-7.78 2.81-2.81c.8-.78.8-2.07 0-2.86zM5.41 20L4 18.59l7.72-7.72 1.47 1.35L5.41 20z\"/>\n",
              "  </svg>\n",
              "      </button>\n",
              "      \n",
              "  <style>\n",
              "    .colab-df-container {\n",
              "      display:flex;\n",
              "      flex-wrap:wrap;\n",
              "      gap: 12px;\n",
              "    }\n",
              "\n",
              "    .colab-df-convert {\n",
              "      background-color: #E8F0FE;\n",
              "      border: none;\n",
              "      border-radius: 50%;\n",
              "      cursor: pointer;\n",
              "      display: none;\n",
              "      fill: #1967D2;\n",
              "      height: 32px;\n",
              "      padding: 0 0 0 0;\n",
              "      width: 32px;\n",
              "    }\n",
              "\n",
              "    .colab-df-convert:hover {\n",
              "      background-color: #E2EBFA;\n",
              "      box-shadow: 0px 1px 2px rgba(60, 64, 67, 0.3), 0px 1px 3px 1px rgba(60, 64, 67, 0.15);\n",
              "      fill: #174EA6;\n",
              "    }\n",
              "\n",
              "    [theme=dark] .colab-df-convert {\n",
              "      background-color: #3B4455;\n",
              "      fill: #D2E3FC;\n",
              "    }\n",
              "\n",
              "    [theme=dark] .colab-df-convert:hover {\n",
              "      background-color: #434B5C;\n",
              "      box-shadow: 0px 1px 3px 1px rgba(0, 0, 0, 0.15);\n",
              "      filter: drop-shadow(0px 1px 2px rgba(0, 0, 0, 0.3));\n",
              "      fill: #FFFFFF;\n",
              "    }\n",
              "  </style>\n",
              "\n",
              "      <script>\n",
              "        const buttonEl =\n",
              "          document.querySelector('#df-d13861be-73ca-496c-8863-76d7a6332eb3 button.colab-df-convert');\n",
              "        buttonEl.style.display =\n",
              "          google.colab.kernel.accessAllowed ? 'block' : 'none';\n",
              "\n",
              "        async function convertToInteractive(key) {\n",
              "          const element = document.querySelector('#df-d13861be-73ca-496c-8863-76d7a6332eb3');\n",
              "          const dataTable =\n",
              "            await google.colab.kernel.invokeFunction('convertToInteractive',\n",
              "                                                     [key], {});\n",
              "          if (!dataTable) return;\n",
              "\n",
              "          const docLinkHtml = 'Like what you see? Visit the ' +\n",
              "            '<a target=\"_blank\" href=https://colab.research.google.com/notebooks/data_table.ipynb>data table notebook</a>'\n",
              "            + ' to learn more about interactive tables.';\n",
              "          element.innerHTML = '';\n",
              "          dataTable['output_type'] = 'display_data';\n",
              "          await google.colab.output.renderOutput(dataTable, element);\n",
              "          const docLink = document.createElement('div');\n",
              "          docLink.innerHTML = docLinkHtml;\n",
              "          element.appendChild(docLink);\n",
              "        }\n",
              "      </script>\n",
              "    </div>\n",
              "  </div>\n",
              "  "
            ]
          },
          "metadata": {},
          "execution_count": 46
        }
      ]
    },
    {
      "cell_type": "code",
      "metadata": {
        "colab": {
          "base_uri": "https://localhost:8080/",
          "height": 546
        },
        "id": "sNmAhtSyb1t6",
        "outputId": "47773fc8-1c19-4461-f3ef-f7d8d691352e"
      },
      "source": [
        "trace = go.Heatmap(z=[correlations['age'],correlations['balance'],\n",
        "                      correlations['day'],correlations['duration'],\n",
        "                      correlations['campaign'],\n",
        "                      correlations['pdays'],correlations['previous']],\n",
        "                   x = ['age','balance','day','duration','campaign','pdays','previous'],\n",
        "                   y = ['age','balance','day','duration','campaign','pdays','previous'])\n",
        "data = [trace]\n",
        "layout = go.Layout(title='HeatMap')\n",
        "fig = go.Figure(data=data,layout=layout)\n",
        "py.iplot(fig)"
      ],
      "execution_count": 47,
      "outputs": [
        {
          "output_type": "execute_result",
          "data": {
            "text/plain": [
              "<IPython.lib.display.IFrame at 0x7f086fd7e370>"
            ],
            "text/html": [
              "\n",
              "        <iframe\n",
              "            width=\"100%\"\n",
              "            height=\"525px\"\n",
              "            src=\"https://plotly.com/~ananthuraj619/11.embed\"\n",
              "            frameborder=\"0\"\n",
              "            allowfullscreen\n",
              "        ></iframe>\n",
              "        "
            ]
          },
          "metadata": {},
          "execution_count": 47
        }
      ]
    },
    {
      "cell_type": "code",
      "metadata": {
        "colab": {
          "base_uri": "https://localhost:8080/"
        },
        "id": "G1ERCc7Qb4Bd",
        "outputId": "837e4f7d-9a5a-475b-a6d8-91fefc743246"
      },
      "source": [
        "bankDF.select([count(when(isnan(c) | col(c).isNull(),c).otherwise(None)).alias(c) for c in bankDF.columns]).show()"
      ],
      "execution_count": 48,
      "outputs": [
        {
          "output_type": "stream",
          "name": "stdout",
          "text": [
            "+---+---+-------------+---------+-------+-------+-------+----+-------+---+-----+--------+--------+-----+--------+--------+------------------------+\n",
            "|age|job|maritalStatus|education|default|balance|housing|loan|contact|day|month|duration|campaign|pdays|previous|poutcome|opened_new_td_act_yes_no|\n",
            "+---+---+-------------+---------+-------+-------+-------+----+-------+---+-----+--------+--------+-----+--------+--------+------------------------+\n",
            "|  0|  0|            0|        0|      0|      0|      0|   0|      0|  0|    0|       0|       0|    0|       0|       0|                       0|\n",
            "+---+---+-------------+---------+-------+-------+-------+----+-------+---+-----+--------+--------+-----+--------+--------+------------------------+\n",
            "\n"
          ]
        }
      ]
    },
    {
      "cell_type": "code",
      "metadata": {
        "colab": {
          "base_uri": "https://localhost:8080/"
        },
        "id": "B3HAK3Zxb67O",
        "outputId": "aa87eca4-db8f-400c-cf10-8222a4e58f54"
      },
      "source": [
        "data_df = bankDF.na.drop(how=\"any\")\n",
        "print(\"Count of the  records in the datset before dropping null values \", bankDF.count())\n",
        "print(\"Count of the records in the dataset after dropping null values\", data_df.count())"
      ],
      "execution_count": 49,
      "outputs": [
        {
          "output_type": "stream",
          "name": "stdout",
          "text": [
            "Count of the  records in the datset before dropping null values  4521\n",
            "Count of the records in the dataset after dropping null values 4521\n"
          ]
        }
      ]
    },
    {
      "cell_type": "code",
      "metadata": {
        "id": "I3oNRMuGb84U"
      },
      "source": [
        "(trainingData,testingData) = bankDF.randomSplit([0.7,0.3])"
      ],
      "execution_count": 50,
      "outputs": []
    },
    {
      "cell_type": "code",
      "metadata": {
        "colab": {
          "base_uri": "https://localhost:8080/"
        },
        "id": "HBlih5-ycCoG",
        "outputId": "b03c7ffe-d8f7-4962-b39a-72acfd791403"
      },
      "source": [
        "trainingData.show(4)"
      ],
      "execution_count": 51,
      "outputs": [
        {
          "output_type": "stream",
          "name": "stdout",
          "text": [
            "+---+-------+-------------+---------+-------+-------+-------+----+---------+---+-----+--------+--------+-----+--------+--------+------------------------+\n",
            "|age|    job|maritalStatus|education|default|balance|housing|loan|  contact|day|month|duration|campaign|pdays|previous|poutcome|opened_new_td_act_yes_no|\n",
            "+---+-------+-------------+---------+-------+-------+-------+----+---------+---+-----+--------+--------+-----+--------+--------+------------------------+\n",
            "| 19|student|       single|secondary|     no|  302.0|     no|  no| cellular| 16|  jul|   205.0|     1.0| -1.0|     0.0| unknown|                     yes|\n",
            "| 19|student|       single|  unknown|     no|    0.0|     no|  no| cellular| 11|  feb|   123.0|     3.0| -1.0|     0.0| unknown|                      no|\n",
            "| 20|student|       single|secondary|     no|  291.0|     no|  no|telephone| 11|  may|   172.0|     5.0|371.0|     5.0| failure|                      no|\n",
            "| 20|student|       single|secondary|     no|  502.0|     no|  no| cellular| 30|  apr|   261.0|     1.0| -1.0|     0.0| unknown|                     yes|\n",
            "+---+-------+-------------+---------+-------+-------+-------+----+---------+---+-----+--------+--------+-----+--------+--------+------------------------+\n",
            "only showing top 4 rows\n",
            "\n"
          ]
        }
      ]
    },
    {
      "cell_type": "code",
      "metadata": {
        "colab": {
          "base_uri": "https://localhost:8080/"
        },
        "id": "_L1oit_jcEtC",
        "outputId": "37d8946f-8c74-434f-a43d-dbba9a0f4794"
      },
      "source": [
        "testingData.show(4)"
      ],
      "execution_count": 52,
      "outputs": [
        {
          "output_type": "stream",
          "name": "stdout",
          "text": [
            "+---+-------+-------------+---------+-------+-------+-------+----+--------+---+-----+--------+--------+-----+--------+--------+------------------------+\n",
            "|age|    job|maritalStatus|education|default|balance|housing|loan| contact|day|month|duration|campaign|pdays|previous|poutcome|opened_new_td_act_yes_no|\n",
            "+---+-------+-------------+---------+-------+-------+-------+----+--------+---+-----+--------+--------+-----+--------+--------+------------------------+\n",
            "| 19|student|       single|  primary|     no|  103.0|     no|  no|cellular| 10|  jul|   104.0|     2.0| -1.0|     0.0| unknown|                     yes|\n",
            "| 19|student|       single|  unknown|     no| 1169.0|     no|  no|cellular|  6|  feb|   463.0|    18.0| -1.0|     0.0| unknown|                      no|\n",
            "| 21|student|       single|  unknown|     no|  137.0|    yes|  no| unknown| 12|  may|   198.0|     3.0| -1.0|     0.0| unknown|                      no|\n",
            "| 22| admin.|       single|secondary|     no| 4111.0|     no| yes|cellular| 19|  aug|    65.0|     1.0| -1.0|     0.0| unknown|                      no|\n",
            "+---+-------+-------------+---------+-------+-------+-------+----+--------+---+-----+--------+--------+-----+--------+--------+------------------------+\n",
            "only showing top 4 rows\n",
            "\n"
          ]
        }
      ]
    },
    {
      "cell_type": "code",
      "metadata": {
        "id": "qgEVU-DwcG22"
      },
      "source": [
        "cat_Var_names = ['job','maritalStatus','education','default','housing','day','contact','month','poutcome']\n",
        "num_var_names = ['age','balance','duration','previous','pdays','campaign']"
      ],
      "execution_count": 53,
      "outputs": []
    },
    {
      "cell_type": "code",
      "metadata": {
        "id": "4TqW7CbFcLn4"
      },
      "source": [
        "from pyspark.ml.feature import VectorAssembler\n",
        "vector_assembler_numVars = VectorAssembler(inputCols=num_var_names , outputCol=\"num_features_all\")"
      ],
      "execution_count": 54,
      "outputs": []
    },
    {
      "cell_type": "code",
      "metadata": {
        "id": "iZND1xjecNlZ"
      },
      "source": [
        "from pyspark.ml.feature import MinMaxScaler\n",
        "min_max_Scalar_NumVars = MinMaxScaler(inputCol=\"num_features_all\",outputCol=\"scaled_num_features\")"
      ],
      "execution_count": 55,
      "outputs": []
    },
    {
      "cell_type": "code",
      "metadata": {
        "id": "0liFW1sbcPny"
      },
      "source": [
        "from pyspark.ml.feature import StringIndexer, OneHotEncoder\n",
        "indexers_Cat = [StringIndexer(inputCol=cat_var_name,outputCol=\"{0}_index\".format(cat_var_name))\n",
        "                for cat_var_name in cat_Var_names]\n",
        "\n",
        "encoders_Cat = [OneHotEncoder(inputCol=indexer.getOutputCol(),outputCol=\"{0}_vec\".format(indexer.getInputCol())) for indexer in indexers_Cat]\n",
        "\n",
        "assembler_Cat = VectorAssembler(inputCols=[encoder.getOutputCol() for encoder in encoders_Cat],outputCol=\"cat_features\")\n",
        "assembler = VectorAssembler(inputCols=[\"scaled_num_features\",\"cat_features\"],outputCol=\"features\")"
      ],
      "execution_count": 56,
      "outputs": []
    },
    {
      "cell_type": "code",
      "metadata": {
        "id": "74PnMRpAcTBD"
      },
      "source": [
        "indexer_Label = StringIndexer(inputCol=\"opened_new_td_act_yes_no\",outputCol=\"label\")"
      ],
      "execution_count": 57,
      "outputs": []
    },
    {
      "cell_type": "code",
      "metadata": {
        "id": "Hrk2HW2VcWQk"
      },
      "source": [
        "preprocessingStages = [vector_assembler_numVars] + [min_max_Scalar_NumVars] + indexers_Cat + encoders_Cat + [assembler_Cat] + [assembler] + [indexer_Label]"
      ],
      "execution_count": 58,
      "outputs": []
    },
    {
      "cell_type": "code",
      "metadata": {
        "colab": {
          "base_uri": "https://localhost:8080/"
        },
        "id": "VQ0pzhVMcYPy",
        "outputId": "c6e06973-c0b0-4dff-bc20-b638a289334f"
      },
      "source": [
        "type(preprocessingStages)"
      ],
      "execution_count": 59,
      "outputs": [
        {
          "output_type": "execute_result",
          "data": {
            "text/plain": [
              "list"
            ]
          },
          "metadata": {},
          "execution_count": 59
        }
      ]
    },
    {
      "cell_type": "code",
      "metadata": {
        "colab": {
          "base_uri": "https://localhost:8080/"
        },
        "id": "HQjc1uHKca4o",
        "outputId": "71edf20c-1ecf-4c05-b436-4be98c99539c"
      },
      "source": [
        "\n",
        "preprocessingStages"
      ],
      "execution_count": 60,
      "outputs": [
        {
          "output_type": "execute_result",
          "data": {
            "text/plain": [
              "[VectorAssembler_5bdf277cffdf,\n",
              " MinMaxScaler_fbe3e5ced61e,\n",
              " StringIndexer_0fa4c19f5500,\n",
              " StringIndexer_2ace9cc57db1,\n",
              " StringIndexer_e860227f903b,\n",
              " StringIndexer_47c5d1c3048c,\n",
              " StringIndexer_e5b1cbc6a661,\n",
              " StringIndexer_3cf3851f394f,\n",
              " StringIndexer_ceb735b97a23,\n",
              " StringIndexer_7bb9711c8a16,\n",
              " StringIndexer_1013f7fc31ab,\n",
              " OneHotEncoder_79f5afe06e89,\n",
              " OneHotEncoder_2602098bd09e,\n",
              " OneHotEncoder_1886bc7002cc,\n",
              " OneHotEncoder_28b3d6b881a0,\n",
              " OneHotEncoder_1691defc79b4,\n",
              " OneHotEncoder_2ae136d86632,\n",
              " OneHotEncoder_adee5d52b5e1,\n",
              " OneHotEncoder_bc8817afdd4a,\n",
              " OneHotEncoder_4dac92793b4d,\n",
              " VectorAssembler_ba7d57f68ec0,\n",
              " VectorAssembler_47aa85b02a47,\n",
              " StringIndexer_2c14d6cf02d1]"
            ]
          },
          "metadata": {},
          "execution_count": 60
        }
      ]
    },
    {
      "cell_type": "code",
      "metadata": {
        "id": "DuLOnKEpcdCx"
      },
      "source": [
        "from pyspark.ml.classification import LogisticRegression\n",
        "lr =  LogisticRegression(maxIter=10,labelCol=\"label\",featuresCol=\"features\")\n",
        "from pyspark.ml import Pipeline\n",
        "lr_pipeline = Pipeline(stages=preprocessingStages+[lr])\n",
        "lr_pipeline_model = lr_pipeline.fit(trainingData)"
      ],
      "execution_count": 61,
      "outputs": []
    },
    {
      "cell_type": "code",
      "source": [
        "lr_pipeline_model.stages"
      ],
      "metadata": {
        "colab": {
          "base_uri": "https://localhost:8080/"
        },
        "id": "J-uCayYlFSbC",
        "outputId": "10b2f2af-130f-4782-a1ae-07f2ff841027"
      },
      "execution_count": 62,
      "outputs": [
        {
          "output_type": "execute_result",
          "data": {
            "text/plain": [
              "[VectorAssembler_5bdf277cffdf,\n",
              " MinMaxScalerModel: uid=MinMaxScaler_fbe3e5ced61e, numFeatures=6, min=0.0, max=1.0,\n",
              " StringIndexerModel: uid=StringIndexer_0fa4c19f5500, handleInvalid=error,\n",
              " StringIndexerModel: uid=StringIndexer_2ace9cc57db1, handleInvalid=error,\n",
              " StringIndexerModel: uid=StringIndexer_e860227f903b, handleInvalid=error,\n",
              " StringIndexerModel: uid=StringIndexer_47c5d1c3048c, handleInvalid=error,\n",
              " StringIndexerModel: uid=StringIndexer_e5b1cbc6a661, handleInvalid=error,\n",
              " StringIndexerModel: uid=StringIndexer_3cf3851f394f, handleInvalid=error,\n",
              " StringIndexerModel: uid=StringIndexer_ceb735b97a23, handleInvalid=error,\n",
              " StringIndexerModel: uid=StringIndexer_7bb9711c8a16, handleInvalid=error,\n",
              " StringIndexerModel: uid=StringIndexer_1013f7fc31ab, handleInvalid=error,\n",
              " OneHotEncoderModel: uid=OneHotEncoder_79f5afe06e89, dropLast=true, handleInvalid=error,\n",
              " OneHotEncoderModel: uid=OneHotEncoder_2602098bd09e, dropLast=true, handleInvalid=error,\n",
              " OneHotEncoderModel: uid=OneHotEncoder_1886bc7002cc, dropLast=true, handleInvalid=error,\n",
              " OneHotEncoderModel: uid=OneHotEncoder_28b3d6b881a0, dropLast=true, handleInvalid=error,\n",
              " OneHotEncoderModel: uid=OneHotEncoder_1691defc79b4, dropLast=true, handleInvalid=error,\n",
              " OneHotEncoderModel: uid=OneHotEncoder_2ae136d86632, dropLast=true, handleInvalid=error,\n",
              " OneHotEncoderModel: uid=OneHotEncoder_adee5d52b5e1, dropLast=true, handleInvalid=error,\n",
              " OneHotEncoderModel: uid=OneHotEncoder_bc8817afdd4a, dropLast=true, handleInvalid=error,\n",
              " OneHotEncoderModel: uid=OneHotEncoder_4dac92793b4d, dropLast=true, handleInvalid=error,\n",
              " VectorAssembler_ba7d57f68ec0,\n",
              " VectorAssembler_47aa85b02a47,\n",
              " StringIndexerModel: uid=StringIndexer_2c14d6cf02d1, handleInvalid=error,\n",
              " LogisticRegressionModel: uid=LogisticRegression_e313c3e8f404, numClasses=2, numFeatures=70]"
            ]
          },
          "metadata": {},
          "execution_count": 62
        }
      ]
    },
    {
      "cell_type": "code",
      "metadata": {
        "colab": {
          "base_uri": "https://localhost:8080/"
        },
        "id": "sGXupqvCtr1l",
        "outputId": "c708cba3-a43f-4541-fd97-9bb66bc8c1d8"
      },
      "source": [
        "lr_pipeline_model.stages[-1].coefficients"
      ],
      "execution_count": 63,
      "outputs": [
        {
          "output_type": "execute_result",
          "data": {
            "text/plain": [
              "DenseVector([0.1113, -0.5049, 13.8001, 0.8314, 0.7831, -3.2034, 0.1187, -0.3477, -0.0088, 0.2515, -0.2351, 0.4761, -0.0613, -0.2603, -0.5094, -0.0881, 0.6315, -0.1388, 0.0196, 0.0091, 0.1332, -0.2482, -0.168, -0.3889, -0.9737, 0.4288, -0.5371, -0.5406, 0.3353, 0.0984, -0.8801, -0.218, 0.398, 0.081, -0.842, -0.821, -0.7192, 0.3389, -0.1304, 0.313, 0.2268, 0.4073, 0.5895, -0.2497, 0.5273, 0.36, 0.2566, -0.3708, 0.7387, 0.0628, 0.9962, -0.3099, 0.2108, 0.74, 0.2768, -0.705, -0.3834, -0.4563, -0.0792, 0.5474, -0.3755, 0.2985, -0.0217, -0.429, 2.0998, 1.2617, 1.2403, -1.3002, -1.2206, -0.8478])"
            ]
          },
          "metadata": {},
          "execution_count": 63
        }
      ]
    },
    {
      "cell_type": "code",
      "metadata": {
        "colab": {
          "base_uri": "https://localhost:8080/"
        },
        "id": "ap4xAjS4uLrh",
        "outputId": "e8721849-ddfb-4594-fed7-53ce151c53bd"
      },
      "source": [
        "lr_pipeline_model.stages[-1].intercept"
      ],
      "execution_count": 64,
      "outputs": [
        {
          "output_type": "execute_result",
          "data": {
            "text/plain": [
              "-2.055231602737747"
            ]
          },
          "metadata": {},
          "execution_count": 64
        }
      ]
    },
    {
      "cell_type": "code",
      "metadata": {
        "id": "2_IbcEBhuOaG"
      },
      "source": [
        "train_predictions_lr = lr_pipeline_model.transform(trainingData)"
      ],
      "execution_count": 65,
      "outputs": []
    },
    {
      "cell_type": "code",
      "metadata": {
        "colab": {
          "base_uri": "https://localhost:8080/"
        },
        "id": "uBjavKmZuRH8",
        "outputId": "8fcd6fbe-a0a0-48e9-e62c-9c7c601d183a"
      },
      "source": [
        "train_predictions_lr.select('features').show(truncate=False)"
      ],
      "execution_count": 66,
      "outputs": [
        {
          "output_type": "stream",
          "name": "stdout",
          "text": [
            "+--------------------------------------------------------------------------------------------------------------------------------------------------------------------------------------+\n",
            "|features                                                                                                                                                                              |\n",
            "+--------------------------------------------------------------------------------------------------------------------------------------------------------------------------------------+\n",
            "|(70,[1,2,16,18,19,22,33,54,57,67],[0.00424228802607181,0.06653426017874876,1.0,1.0,1.0,1.0,1.0,1.0,1.0,1.0])                                                                          |\n",
            "|(70,[2,5,16,18,22,40,54,62,67],[0.039390930155577625,0.04081632653061224,1.0,1.0,1.0,1.0,1.0,1.0,1.0])                                                                                |\n",
            "|(70,[0,1,2,3,4,5,16,18,19,22,40,56,68],[0.014705882352941176,0.004087767601281114,0.055610724925521354,0.2,0.4598269468479604,0.08163265306122448,1.0,1.0,1.0,1.0,1.0,1.0,1.0])       |\n",
            "|(70,[0,1,2,16,18,19,22,39,54,61,67],[0.014705882352941176,0.007051750294993538,0.08507116848725588,1.0,1.0,1.0,1.0,1.0,1.0,1.0,1.0])                                                  |\n",
            "|(70,[0,1,2,16,18,19,22,42,54,62,67],[0.014705882352941176,0.016730347811428892,0.08937437934458789,1.0,1.0,1.0,1.0,1.0,1.0,1.0,1.0])                                                  |\n",
            "|(70,[0,1,2,3,4,10,18,19,22,29,59,69],[0.029411764705882353,0.005071079395403719,0.10758027143330023,0.04,0.11866501854140914,1.0,1.0,1.0,1.0,1.0,1.0,1.0])                            |\n",
            "|(70,[0,1,2,5,10,18,19,22,23,36,55,56,67],[0.029411764705882353,0.026732033488790243,0.034094670638861305,0.02040816326530612,1.0,1.0,1.0,1.0,1.0,1.0,1.0,1.0,1.0])                    |\n",
            "|(70,[0,1,2,16,18,19,22,38,55,56,67],[0.029411764705882353,8.428386806765185E-5,0.20456802383316783,1.0,1.0,1.0,1.0,1.0,1.0,1.0,1.0])                                                  |\n",
            "|(70,[0,1,2,16,18,19,22,24,55,58,67],[0.029411764705882353,0.009566219025678484,6.620324395895399E-4,1.0,1.0,1.0,1.0,1.0,1.0,1.0,1.0])                                                 |\n",
            "|(70,[0,1,2,3,4,5,16,18,19,22,39,54,59],[0.029411764705882353,0.0349497106253863,0.08407811982787157,0.12,0.21013597033374534,0.1020408163265306,1.0,1.0,1.0,1.0,1.0,1.0,1.0])         |\n",
            "|(70,[0,1,2,3,4,5,16,18,19,22,26,54,58,69],[0.029411764705882353,0.09613979884250154,0.04038397881496193,0.28,0.15822002472187885,0.04081632653061224,1.0,1.0,1.0,1.0,1.0,1.0,1.0,1.0])|\n",
            "|(70,[0,1,2,3,4,16,18,21,22,24,54,64,68],[0.044117647058823525,0.0487722649884812,0.10857332009268454,0.12,0.22744128553770085,1.0,1.0,1.0,1.0,1.0,1.0,1.0,1.0])                       |\n",
            "|(70,[0,1,2,16,18,19,22,23,42,56,67],[0.044117647058823525,0.0034556385907737255,0.006951340615690169,1.0,1.0,1.0,1.0,1.0,1.0,1.0,1.0])                                                |\n",
            "|(70,[0,1,2,3,4,5,16,18,19,22,35,54,60,69],[0.044117647058823525,0.0349497106253863,0.14730221780867264,0.4,0.04820766378244746,0.02040816326530612,1.0,1.0,1.0,1.0,1.0,1.0,1.0,1.0])  |\n",
            "|(70,[0,1,2,16,18,20,22,33,54,59,67],[0.044117647058823525,0.016308928471090632,0.03806686527639854,1.0,1.0,1.0,1.0,1.0,1.0,1.0,1.0])                                                  |\n",
            "|(70,[0,1,2,16,18,22,46,54,66,67],[0.044117647058823525,0.007711973928190144,0.049652432969215496,1.0,1.0,1.0,1.0,1.0,1.0,1.0])                                                        |\n",
            "|(70,[0,1,2,8,18,19,22,42,60,67],[0.044117647058823525,0.004677754677754677,0.04137702747434625,1.0,1.0,1.0,1.0,1.0,1.0,1.0])                                                          |\n",
            "|(70,[0,1,2,9,18,19,22,42,55,56,67],[0.058823529411764705,7.02365567230432E-5,0.1353856338960609,1.0,1.0,1.0,1.0,1.0,1.0,1.0,1.0])                                                     |\n",
            "|(70,[0,1,2,7,17,21,22,23,33,54,61,67],[0.058823529411764705,0.016266786537056807,0.244620986428335,1.0,1.0,1.0,1.0,1.0,1.0,1.0,1.0,1.0])                                              |\n",
            "|(70,[0,1,2,7,18,21,22,23,48,55,59,67],[0.058823529411764705,0.12118615496993874,0.09169149288315127,1.0,1.0,1.0,1.0,1.0,1.0,1.0,1.0,1.0])                                             |\n",
            "+--------------------------------------------------------------------------------------------------------------------------------------------------------------------------------------+\n",
            "only showing top 20 rows\n",
            "\n"
          ]
        }
      ]
    },
    {
      "cell_type": "code",
      "metadata": {
        "colab": {
          "base_uri": "https://localhost:8080/"
        },
        "id": "mCtLSARjuT75",
        "outputId": "0b936b43-d914-47f8-daf9-17e3c6b0f7ab"
      },
      "source": [
        "train_predictions_lr.show()"
      ],
      "execution_count": 67,
      "outputs": [
        {
          "output_type": "stream",
          "name": "stdout",
          "text": [
            "+---+-----------+-------------+---------+-------+-------+-------+----+---------+---+-----+--------+--------+-----+--------+--------+------------------------+--------------------+--------------------+---------+-------------------+---------------+-------------+-------------+---------+-------------+-----------+--------------+---------------+-----------------+-------------+-------------+-------------+---------------+-------------+---------------+-------------+--------------------+--------------------+-----+--------------------+--------------------+----------+\n",
            "|age|        job|maritalStatus|education|default|balance|housing|loan|  contact|day|month|duration|campaign|pdays|previous|poutcome|opened_new_td_act_yes_no|    num_features_all| scaled_num_features|job_index|maritalStatus_index|education_index|default_index|housing_index|day_index|contact_index|month_index|poutcome_index|        job_vec|maritalStatus_vec|education_vec|  default_vec|  housing_vec|        day_vec|  contact_vec|      month_vec| poutcome_vec|        cat_features|            features|label|       rawPrediction|         probability|prediction|\n",
            "+---+-----------+-------------+---------+-------+-------+-------+----+---------+---+-----+--------+--------+-----+--------+--------+------------------------+--------------------+--------------------+---------+-------------------+---------------+-------------+-------------+---------+-------------+-----------+--------------+---------------+-----------------+-------------+-------------+-------------+---------------+-------------+---------------+-------------+--------------------+--------------------+-----+--------------------+--------------------+----------+\n",
            "| 19|    student|       single|secondary|     no|  302.0|     no|  no| cellular| 16|  jul|   205.0|     1.0| -1.0|     0.0| unknown|                     yes|[19.0,302.0,205.0...|(6,[1,2],[0.00424...|     10.0|                1.0|            0.0|          0.0|          1.0|      9.0|          0.0|        1.0|           0.0|(11,[10],[1.0])|    (2,[1],[1.0])|(3,[0],[1.0])|(1,[0],[1.0])|    (1,[],[])| (30,[9],[1.0])|(2,[0],[1.0])| (11,[1],[1.0])|(3,[0],[1.0])|(64,[10,12,13,16,...|(70,[1,2,16,18,19...|  1.0|[2.04573498666462...|[0.88551595295642...|       0.0|\n",
            "| 19|    student|       single|  unknown|     no|    0.0|     no|  no| cellular| 11|  feb|   123.0|     3.0| -1.0|     0.0| unknown|                      no|[19.0,0.0,123.0,0...|(6,[2,5],[0.03939...|     10.0|                1.0|            3.0|          0.0|          1.0|     16.0|          0.0|        6.0|           0.0|(11,[10],[1.0])|    (2,[1],[1.0])|    (3,[],[])|(1,[0],[1.0])|    (1,[],[])|(30,[16],[1.0])|(2,[0],[1.0])| (11,[6],[1.0])|(3,[0],[1.0])|(64,[10,12,16,34,...|(70,[2,5,16,18,22...|  0.0|[1.97765035207856...|[0.87843046533652...|       0.0|\n",
            "| 20|    student|       single|secondary|     no|  291.0|     no|  no|telephone| 11|  may|   172.0|     5.0|371.0|     5.0| failure|                      no|[20.0,291.0,172.0...|[0.01470588235294...|     10.0|                1.0|            0.0|          0.0|          1.0|     16.0|          2.0|        0.0|           1.0|(11,[10],[1.0])|    (2,[1],[1.0])|(3,[0],[1.0])|(1,[0],[1.0])|    (1,[],[])|(30,[16],[1.0])|    (2,[],[])| (11,[0],[1.0])|(3,[1],[1.0])|(64,[10,12,13,16,...|(70,[0,1,2,3,4,5,...|  0.0|[1.90843736034374...|[0.87084349162239...|       0.0|\n",
            "| 20|    student|       single|secondary|     no|  502.0|     no|  no| cellular| 30|  apr|   261.0|     1.0| -1.0|     0.0| unknown|                     yes|[20.0,502.0,261.0...|[0.01470588235294...|     10.0|                1.0|            0.0|          0.0|          1.0|     15.0|          0.0|        5.0|           0.0|(11,[10],[1.0])|    (2,[1],[1.0])|(3,[0],[1.0])|(1,[0],[1.0])|    (1,[],[])|(30,[15],[1.0])|(2,[0],[1.0])| (11,[5],[1.0])|(3,[0],[1.0])|(64,[10,12,13,16,...|(70,[0,1,2,16,18,...|  1.0|[0.80286665029583...|[0.69058735123954...|       0.0|\n",
            "| 20|    student|       single|secondary|     no| 1191.0|     no|  no| cellular| 12|  feb|   274.0|     1.0| -1.0|     0.0| unknown|                      no|[20.0,1191.0,274....|[0.01470588235294...|     10.0|                1.0|            0.0|          0.0|          1.0|     18.0|          0.0|        6.0|           0.0|(11,[10],[1.0])|    (2,[1],[1.0])|(3,[0],[1.0])|(1,[0],[1.0])|    (1,[],[])|(30,[18],[1.0])|(2,[0],[1.0])| (11,[6],[1.0])|(3,[0],[1.0])|(64,[10,12,13,16,...|(70,[0,1,2,16,18,...|  0.0|[0.79217179038647...|[0.68829746575868...|       0.0|\n",
            "| 21|   services|       single|secondary|     no|  361.0|     no|  no|telephone|  5|  jun|   329.0|     1.0| 95.0|     1.0|   other|                      no|[21.0,361.0,329.0...|[0.02941176470588...|      4.0|                1.0|            0.0|          0.0|          1.0|      5.0|          2.0|        3.0|           2.0| (11,[4],[1.0])|    (2,[1],[1.0])|(3,[0],[1.0])|(1,[0],[1.0])|    (1,[],[])| (30,[5],[1.0])|    (2,[],[])| (11,[3],[1.0])|(3,[2],[1.0])|(64,[4,12,13,16,2...|(70,[0,1,2,3,4,10...|  0.0|[1.02007897704383...|[0.73498798295177...|       0.0|\n",
            "| 21|   services|       single|secondary|     no| 1903.0|    yes|  no|  unknown| 29|  may|   107.0|     2.0| -1.0|     0.0| unknown|                      no|[21.0,1903.0,107....|[0.02941176470588...|      4.0|                1.0|            0.0|          0.0|          0.0|     12.0|          1.0|        0.0|           0.0| (11,[4],[1.0])|    (2,[1],[1.0])|(3,[0],[1.0])|(1,[0],[1.0])|(1,[0],[1.0])|(30,[12],[1.0])|(2,[1],[1.0])| (11,[0],[1.0])|(3,[0],[1.0])|(64,[4,12,13,16,1...|(70,[0,1,2,5,10,1...|  0.0|[5.53144252301057...|[0.99605534970588...|       0.0|\n",
            "| 21|    student|       single|secondary|     no|    6.0|     no|  no|  unknown|  9|  may|   622.0|     1.0| -1.0|     0.0| unknown|                      no|[21.0,6.0,622.0,0...|[0.02941176470588...|     10.0|                1.0|            0.0|          0.0|          1.0|     14.0|          1.0|        0.0|           0.0|(11,[10],[1.0])|    (2,[1],[1.0])|(3,[0],[1.0])|(1,[0],[1.0])|    (1,[],[])|(30,[14],[1.0])|(2,[1],[1.0])| (11,[0],[1.0])|(3,[0],[1.0])|(64,[10,12,13,16,...|(70,[0,1,2,16,18,...|  0.0|[1.25586139565887...|[0.77831284744989...|       0.0|\n",
            "| 21|    student|       single|secondary|     no|  681.0|     no|  no|  unknown| 20|  aug|     6.0|     1.0| -1.0|     0.0| unknown|                      no|[21.0,681.0,6.0,0...|[0.02941176470588...|     10.0|                1.0|            0.0|          0.0|          1.0|      0.0|          1.0|        2.0|           0.0|(11,[10],[1.0])|    (2,[1],[1.0])|(3,[0],[1.0])|(1,[0],[1.0])|    (1,[],[])| (30,[0],[1.0])|(2,[1],[1.0])| (11,[2],[1.0])|(3,[0],[1.0])|(64,[10,12,13,16,...|(70,[0,1,2,16,18,...|  0.0|[4.61361245823155...|[0.99018142766520...|       0.0|\n",
            "| 21|    student|       single|secondary|     no| 2488.0|     no|  no| cellular| 30|  jun|   258.0|     6.0|169.0|     3.0| success|                     yes|[21.0,2488.0,258....|[0.02941176470588...|     10.0|                1.0|            0.0|          0.0|          1.0|     15.0|          0.0|        3.0|           3.0|(11,[10],[1.0])|    (2,[1],[1.0])|(3,[0],[1.0])|(1,[0],[1.0])|    (1,[],[])|(30,[15],[1.0])|(2,[0],[1.0])| (11,[3],[1.0])|    (3,[],[])|(64,[10,12,13,16,...|(70,[0,1,2,3,4,5,...|  1.0|[-0.6575560764024...|[0.34128881857345...|       1.0|\n",
            "| 21|    student|       single|secondary|     no| 6844.0|     no|  no| cellular| 14|  aug|   126.0|     3.0|127.0|     7.0|   other|                      no|[21.0,6844.0,126....|[0.02941176470588...|     10.0|                1.0|            0.0|          0.0|          1.0|      2.0|          0.0|        2.0|           2.0|(11,[10],[1.0])|    (2,[1],[1.0])|(3,[0],[1.0])|(1,[0],[1.0])|    (1,[],[])| (30,[2],[1.0])|(2,[0],[1.0])| (11,[2],[1.0])|(3,[2],[1.0])|(64,[10,12,13,16,...|(70,[0,1,2,3,4,5,...|  0.0|[2.01244297995709...|[0.88209733334489...|       0.0|\n",
            "| 22|    student|       single|  primary|     no| 3472.0|     no|  no| cellular| 20|  oct|   332.0|     1.0|183.0|     3.0| failure|                     yes|[22.0,3472.0,332....|[0.04411764705882...|     10.0|                1.0|            2.0|          0.0|          1.0|      0.0|          0.0|        8.0|           1.0|(11,[10],[1.0])|    (2,[1],[1.0])|(3,[2],[1.0])|(1,[0],[1.0])|    (1,[],[])| (30,[0],[1.0])|(2,[0],[1.0])| (11,[8],[1.0])|(3,[1],[1.0])|(64,[10,12,15,16,...|(70,[0,1,2,3,4,16...|  1.0|[-0.1184259670526...|[0.47042806164843...|       1.0|\n",
            "| 22|    student|       single|secondary|     no|  246.0|    yes|  no|telephone| 12|  may|    25.0|     1.0| -1.0|     0.0| unknown|                      no|[22.0,246.0,25.0,...|[0.04411764705882...|     10.0|                1.0|            0.0|          0.0|          0.0|     18.0|          2.0|        0.0|           0.0|(11,[10],[1.0])|    (2,[1],[1.0])|(3,[0],[1.0])|(1,[0],[1.0])|(1,[0],[1.0])|(30,[18],[1.0])|    (2,[],[])| (11,[0],[1.0])|(3,[0],[1.0])|(64,[10,12,13,16,...|(70,[0,1,2,16,18,...|  0.0|[2.94703814339432...|[0.95012331599806...|       0.0|\n",
            "| 22|    student|       single|secondary|     no| 2488.0|     no|  no| cellular|  8|  nov|   449.0|     2.0| 38.0|    10.0|   other|                     yes|[22.0,2488.0,449....|[0.04411764705882...|     10.0|                1.0|            0.0|          0.0|          1.0|     11.0|          0.0|        4.0|           2.0|(11,[10],[1.0])|    (2,[1],[1.0])|(3,[0],[1.0])|(1,[0],[1.0])|    (1,[],[])|(30,[11],[1.0])|(2,[0],[1.0])| (11,[4],[1.0])|(3,[2],[1.0])|(64,[10,12,13,16,...|(70,[0,1,2,3,4,5,...|  1.0|[1.00561285042909...|[0.73216069977255...|       0.0|\n",
            "| 22|    student|       single| tertiary|     no| 1161.0|     no| yes| cellular| 16|  jun|   119.0|     1.0| -1.0|     0.0| unknown|                      no|[22.0,1161.0,119....|[0.04411764705882...|     10.0|                1.0|            1.0|          0.0|          1.0|      9.0|          0.0|        3.0|           0.0|(11,[10],[1.0])|    (2,[1],[1.0])|(3,[1],[1.0])|(1,[0],[1.0])|    (1,[],[])| (30,[9],[1.0])|(2,[0],[1.0])| (11,[3],[1.0])|(3,[0],[1.0])|(64,[10,12,14,16,...|(70,[0,1,2,16,18,...|  0.0|[1.31184650524981...|[0.78782197898166...|       0.0|\n",
            "| 22|    student|       single|  unknown|     no|  549.0|     no|  no| cellular|  2|  sep|   154.0|     1.0| -1.0|     0.0| unknown|                      no|[22.0,549.0,154.0...|[0.04411764705882...|     10.0|                1.0|            3.0|          0.0|          1.0|     22.0|          0.0|       10.0|           0.0|(11,[10],[1.0])|    (2,[1],[1.0])|    (3,[],[])|(1,[0],[1.0])|    (1,[],[])|(30,[22],[1.0])|(2,[0],[1.0])|(11,[10],[1.0])|(3,[0],[1.0])|(64,[10,12,16,40,...|(70,[0,1,2,16,18,...|  0.0|[0.41236776153330...|[0.60165548752317...|       0.0|\n",
            "| 22| technician|       single|secondary|     no|  333.0|     no| yes|telephone| 12|  nov|   129.0|     1.0| -1.0|     0.0| unknown|                      no|[22.0,333.0,129.0...|[0.04411764705882...|      2.0|                1.0|            0.0|          0.0|          1.0|     18.0|          2.0|        4.0|           0.0| (11,[2],[1.0])|    (2,[1],[1.0])|(3,[0],[1.0])|(1,[0],[1.0])|    (1,[],[])|(30,[18],[1.0])|    (2,[],[])| (11,[4],[1.0])|(3,[0],[1.0])|(64,[2,12,13,16,3...|(70,[0,1,2,8,18,1...|  0.0|[2.71604310374675...|[0.93796669965503...|       0.0|\n",
            "| 23|     admin.|       single|secondary|     no|    5.0|     no|  no|  unknown| 12|  may|   413.0|     1.0| -1.0|     0.0| unknown|                      no|[23.0,5.0,413.0,0...|[0.05882352941176...|      3.0|                1.0|            0.0|          0.0|          1.0|     18.0|          1.0|        0.0|           0.0| (11,[3],[1.0])|    (2,[1],[1.0])|(3,[0],[1.0])|(1,[0],[1.0])|    (1,[],[])|(30,[18],[1.0])|(2,[1],[1.0])| (11,[0],[1.0])|(3,[0],[1.0])|(64,[3,12,13,16,3...|(70,[0,1,2,9,18,1...|  0.0|[1.86737564986851...|[0.86615432615340...|       0.0|\n",
            "| 23|blue-collar|      married|  primary|     no| 1158.0|    yes|  no| cellular| 16|  apr|   743.0|     1.0| -1.0|     0.0| unknown|                      no|[23.0,1158.0,743....|[0.05882352941176...|      1.0|                0.0|            2.0|          0.0|          0.0|      9.0|          0.0|        5.0|           0.0| (11,[1],[1.0])|    (2,[0],[1.0])|(3,[2],[1.0])|(1,[0],[1.0])|(1,[0],[1.0])| (30,[9],[1.0])|(2,[0],[1.0])| (11,[5],[1.0])|(3,[0],[1.0])|(64,[1,11,15,16,1...|(70,[0,1,2,7,17,2...|  0.0|[0.61650424512805...|[0.64942307679128...|       0.0|\n",
            "| 23|blue-collar|       single|  primary|     no| 8627.0|    yes|  no|  unknown|  3|  jun|   281.0|     1.0| -1.0|     0.0| unknown|                      no|[23.0,8627.0,281....|[0.05882352941176...|      1.0|                1.0|            2.0|          0.0|          0.0|     24.0|          1.0|        3.0|           0.0| (11,[1],[1.0])|    (2,[1],[1.0])|(3,[2],[1.0])|(1,[0],[1.0])|(1,[0],[1.0])|(30,[24],[1.0])|(2,[1],[1.0])| (11,[3],[1.0])|(3,[0],[1.0])|(64,[1,12,15,16,1...|(70,[0,1,2,7,18,2...|  0.0|[2.69684284936586...|[0.93684009046223...|       0.0|\n",
            "+---+-----------+-------------+---------+-------+-------+-------+----+---------+---+-----+--------+--------+-----+--------+--------+------------------------+--------------------+--------------------+---------+-------------------+---------------+-------------+-------------+---------+-------------+-----------+--------------+---------------+-----------------+-------------+-------------+-------------+---------------+-------------+---------------+-------------+--------------------+--------------------+-----+--------------------+--------------------+----------+\n",
            "only showing top 20 rows\n",
            "\n"
          ]
        }
      ]
    },
    {
      "cell_type": "code",
      "metadata": {
        "id": "BgdJ4Ik2uoAJ"
      },
      "source": [
        "test_predictions_lr = lr_pipeline_model.transform(testingData)"
      ],
      "execution_count": 68,
      "outputs": []
    },
    {
      "cell_type": "code",
      "metadata": {
        "colab": {
          "base_uri": "https://localhost:8080/"
        },
        "id": "huEnVVbhuqUI",
        "outputId": "a8949c5d-6292-4ee6-9431-694e86a63577"
      },
      "source": [
        "from pyspark.ml.evaluation import MulticlassClassificationEvaluator\n",
        "predictionAndLabels_train_lr = train_predictions_lr.select(\"prediction\",\"label\")\n",
        "evaluator = MulticlassClassificationEvaluator(metricName=\"accuracy\")\n",
        "train_accuracy_lr = evaluator.evaluate(predictionAndLabels_train_lr)\n",
        "print(\"Training Set Accuracy = \",train_accuracy_lr)\n",
        "print(\"Training error = \", 1-train_accuracy_lr)"
      ],
      "execution_count": 69,
      "outputs": [
        {
          "output_type": "stream",
          "name": "stdout",
          "text": [
            "Training Set Accuracy =  0.8978102189781022\n",
            "Training error =  0.1021897810218978\n"
          ]
        }
      ]
    },
    {
      "cell_type": "code",
      "metadata": {
        "colab": {
          "base_uri": "https://localhost:8080/"
        },
        "id": "zXMyB7EKuwPo",
        "outputId": "016f3ab2-95d1-49ed-dc21-44a9e687c04c"
      },
      "source": [
        "predictionAndLabels_test_lr = test_predictions_lr.select(\"prediction\",\"label\")\n",
        "evaluator = MulticlassClassificationEvaluator(metricName=\"accuracy\")\n",
        "test_accuracy_lr = evaluator.evaluate(predictionAndLabels_test_lr)\n",
        "print(\"Testing Set Accuracy = \",test_accuracy_lr)\n",
        "print(\"Testing error \", 1-test_accuracy_lr)"
      ],
      "execution_count": 70,
      "outputs": [
        {
          "output_type": "stream",
          "name": "stdout",
          "text": [
            "Testing Set Accuracy =  0.9021897810218978\n",
            "Testing error  0.09781021897810216\n"
          ]
        }
      ]
    },
    {
      "cell_type": "code",
      "metadata": {
        "id": "2u5A39aWuyRX"
      },
      "source": [
        "true_positive = predictionAndLabels_test_lr[(predictionAndLabels_test_lr.prediction == 1.0) & (predictionAndLabels_test_lr.label ==1.0 )].count()"
      ],
      "execution_count": 71,
      "outputs": []
    },
    {
      "cell_type": "code",
      "metadata": {
        "colab": {
          "base_uri": "https://localhost:8080/"
        },
        "id": "DhFJQLP5u0SW",
        "outputId": "e566ff0f-6bbd-49be-8ed4-290176a5ab65"
      },
      "source": [
        "true_positive"
      ],
      "execution_count": 72,
      "outputs": [
        {
          "output_type": "execute_result",
          "data": {
            "text/plain": [
              "55"
            ]
          },
          "metadata": {},
          "execution_count": 72
        }
      ]
    },
    {
      "cell_type": "code",
      "metadata": {
        "id": "hEQnhuOXu2X7"
      },
      "source": [
        "true_negative = predictionAndLabels_test_lr[(predictionAndLabels_test_lr.prediction == 0.0) & (predictionAndLabels_test_lr.label ==0.0 )].count()"
      ],
      "execution_count": 73,
      "outputs": []
    },
    {
      "cell_type": "code",
      "metadata": {
        "colab": {
          "base_uri": "https://localhost:8080/"
        },
        "id": "IqGAMlicu5kk",
        "outputId": "919041cb-3dc3-40f4-e698-d0ef46f6cd17"
      },
      "source": [
        "true_negative"
      ],
      "execution_count": 74,
      "outputs": [
        {
          "output_type": "execute_result",
          "data": {
            "text/plain": [
              "1181"
            ]
          },
          "metadata": {},
          "execution_count": 74
        }
      ]
    },
    {
      "cell_type": "code",
      "metadata": {
        "id": "0TWbh5BUu8gF"
      },
      "source": [
        "false_positive = predictionAndLabels_test_lr[(predictionAndLabels_test_lr.prediction == 1.0) & (predictionAndLabels_test_lr.label ==0.0 )].count()"
      ],
      "execution_count": 75,
      "outputs": []
    },
    {
      "cell_type": "code",
      "metadata": {
        "colab": {
          "base_uri": "https://localhost:8080/"
        },
        "id": "L81NmMz4u-YK",
        "outputId": "7071e762-d60b-447d-e138-753fad1e65e9"
      },
      "source": [
        "false_positive"
      ],
      "execution_count": 76,
      "outputs": [
        {
          "output_type": "execute_result",
          "data": {
            "text/plain": [
              "33"
            ]
          },
          "metadata": {},
          "execution_count": 76
        }
      ]
    },
    {
      "cell_type": "code",
      "metadata": {
        "id": "An9n21zHvBGp"
      },
      "source": [
        "false_negative = predictionAndLabels_test_lr[(predictionAndLabels_test_lr.prediction == 0.0) & (predictionAndLabels_test_lr.label ==1.0 )].count()"
      ],
      "execution_count": 77,
      "outputs": []
    },
    {
      "cell_type": "code",
      "metadata": {
        "colab": {
          "base_uri": "https://localhost:8080/"
        },
        "id": "aB3tRB-rvD1b",
        "outputId": "96af501f-bf5c-4e07-8e03-83df32b32b88"
      },
      "source": [
        "false_negative"
      ],
      "execution_count": 78,
      "outputs": [
        {
          "output_type": "execute_result",
          "data": {
            "text/plain": [
              "101"
            ]
          },
          "metadata": {},
          "execution_count": 78
        }
      ]
    },
    {
      "cell_type": "code",
      "metadata": {
        "id": "6VURo1u7vGWv"
      },
      "source": [
        "precission = true_positive/float(true_positive + false_positive)"
      ],
      "execution_count": 79,
      "outputs": []
    },
    {
      "cell_type": "code",
      "metadata": {
        "colab": {
          "base_uri": "https://localhost:8080/"
        },
        "id": "i8ylvMPJwmD_",
        "outputId": "781ef3ed-7cca-4a3a-fe2a-5acd1cab269f"
      },
      "source": [
        "precission"
      ],
      "execution_count": 80,
      "outputs": [
        {
          "output_type": "execute_result",
          "data": {
            "text/plain": [
              "0.625"
            ]
          },
          "metadata": {},
          "execution_count": 80
        }
      ]
    },
    {
      "cell_type": "code",
      "metadata": {
        "colab": {
          "base_uri": "https://localhost:8080/"
        },
        "id": "-yiqwUh5w0DM",
        "outputId": "98e07850-085c-4889-e115-21d0758587db"
      },
      "source": [
        "true_positive = predictionAndLabels_train_lr[(predictionAndLabels_train_lr.label == 1) & (predictionAndLabels_train_lr.prediction == 1.0)].count()\n",
        "true_negative = predictionAndLabels_train_lr[(predictionAndLabels_train_lr.label == 0) & (predictionAndLabels_train_lr.prediction == 0.0)].count()\n",
        "false_positive = predictionAndLabels_train_lr[(predictionAndLabels_train_lr.label == 0) & (predictionAndLabels_train_lr.prediction == 1.0)].count()\n",
        "false_negative = predictionAndLabels_train_lr[(predictionAndLabels_train_lr.label == 1) & (predictionAndLabels_train_lr.prediction == 0.0)].count()\n",
        "print (\"TRAIN METRICS - LINEAR MODEL - BINOMIAL FAMILY\")\n",
        "print (\"True Positives:\", true_positive)\n",
        "print (\"True Negatives:\", true_negative)\n",
        "print (\"False Positives:\", false_positive)\n",
        "print (\"False Negatives:\", false_negative)\n",
        "print (\"Total\", predictionAndLabels_train_lr.count())\n",
        "precission = true_positive / float(true_positive + false_positive)\n",
        "print (\"Precission: \", precission)\n",
        "recall = true_positive / float(true_positive + false_negative)\n",
        "print (\"Recall: \", recall)\n",
        "print (\"F1 Score: \", (2*((precission * recall)/float(precission + recall))))\n",
        "print(\"*****************************************************************************\")\n",
        "true_positive = predictionAndLabels_test_lr[(predictionAndLabels_test_lr.label == 1) & (predictionAndLabels_test_lr.prediction == 1.0)].count()\n",
        "true_negative = predictionAndLabels_test_lr[(predictionAndLabels_test_lr.label == 0) & (predictionAndLabels_test_lr.prediction == 0.0)].count()\n",
        "false_positive = predictionAndLabels_test_lr[(predictionAndLabels_test_lr.label == 0) & (predictionAndLabels_test_lr.prediction == 1.0)].count()\n",
        "false_negative = predictionAndLabels_test_lr[(predictionAndLabels_test_lr.label == 1) & (predictionAndLabels_test_lr.prediction == 0.0)].count()\n",
        "print (\"TEST METRICS - LINEAR MODEL - BINOMIAL FAMILY\")\n",
        "print (\"True Positives:\", true_positive)\n",
        "print (\"True Negatives:\", true_negative)\n",
        "print (\"False Positives:\", false_positive)\n",
        "print (\"False Negatives:\", false_negative)\n",
        "print (\"Total\", predictionAndLabels_train_lr.count())\n",
        "precission = true_positive / float(true_positive + false_positive)\n",
        "print (\"Precission: \", precission)\n",
        "recall = true_positive / float(true_positive + false_negative)\n",
        "print (\"Recall: \", recall)\n",
        "print (\"F1 Score: \", (2*((precission * recall)/float(precission + recall))))"
      ],
      "execution_count": 81,
      "outputs": [
        {
          "output_type": "stream",
          "name": "stdout",
          "text": [
            "TRAIN METRICS - LINEAR MODEL - BINOMIAL FAMILY\n",
            "True Positives: 113\n",
            "True Negatives: 2716\n",
            "False Positives: 70\n",
            "False Negatives: 252\n",
            "Total 3151\n",
            "Precission:  0.6174863387978142\n",
            "Recall:  0.3095890410958904\n",
            "F1 Score:  0.41240875912408764\n",
            "*****************************************************************************\n",
            "TEST METRICS - LINEAR MODEL - BINOMIAL FAMILY\n",
            "True Positives: 55\n",
            "True Negatives: 1181\n",
            "False Positives: 33\n",
            "False Negatives: 101\n",
            "Total 3151\n",
            "Precission:  0.625\n",
            "Recall:  0.3525641025641026\n",
            "F1 Score:  0.45081967213114754\n"
          ]
        }
      ]
    },
    {
      "cell_type": "code",
      "metadata": {
        "id": "oJ1yICzww5Zp"
      },
      "source": [
        "train_pred_pandas = predictionAndLabels_train_lr.toPandas()\n",
        "train_actuals = train_pred_pandas.label.tolist()\n",
        "train_predictions = train_pred_pandas.prediction.tolist()\n",
        "\n",
        "\n",
        "test_pred_pandas = predictionAndLabels_test_lr.toPandas()\n",
        "test_actuals = test_pred_pandas.label.tolist()\n",
        "test_predictions = test_pred_pandas.prediction.tolist()\n",
        "from sklearn import metrics as smetrics\n",
        "cm = smetrics.confusion_matrix(train_actuals, train_predictions)"
      ],
      "execution_count": 82,
      "outputs": []
    },
    {
      "cell_type": "code",
      "metadata": {
        "colab": {
          "base_uri": "https://localhost:8080/",
          "height": 505
        },
        "id": "TRPKd-21w-U4",
        "outputId": "0c1b42c5-321a-4a24-a7f9-5e3e0d630e2e"
      },
      "source": [
        "df_cm = pd.DataFrame(cm)\n",
        "df_cm.index = ['Not Approved', 'Approved']\n",
        "df_cm.columns = ['Not Approved', 'Approved']\n",
        "names=['Not Approved', 'Approved']\n",
        "print(df_cm)\n",
        "fig = plt.figure(figsize = (10,7))\n",
        "sns.set(font_scale=1.4)#for label size\n",
        "sns.heatmap(df_cm, annot=True,fmt=\"d\",annot_kws={\"size\": 20})"
      ],
      "execution_count": 83,
      "outputs": [
        {
          "output_type": "stream",
          "name": "stdout",
          "text": [
            "              Not Approved  Approved\n",
            "Not Approved          2716        70\n",
            "Approved               252       113\n"
          ]
        },
        {
          "output_type": "execute_result",
          "data": {
            "text/plain": [
              "<matplotlib.axes._subplots.AxesSubplot at 0x7f086f46af40>"
            ]
          },
          "metadata": {},
          "execution_count": 83
        },
        {
          "output_type": "display_data",
          "data": {
            "text/plain": [
              "<Figure size 720x504 with 2 Axes>"
            ],
            "image/png": "[encoded data removed]"
          },
          "metadata": {
            "needs_background": "light"
          }
        }
      ]
    },
    {
      "cell_type": "code",
      "metadata": {
        "id": "UcLuBHr-xBBt"
      },
      "source": [],
      "execution_count": 83,
      "outputs": []
    }
  ]
}